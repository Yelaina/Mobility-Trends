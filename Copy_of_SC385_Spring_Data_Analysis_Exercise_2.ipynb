{
  "nbformat": 4,
  "nbformat_minor": 0,
  "metadata": {
    "colab": {
      "name": "Copy of SC385 Spring Data Analysis Exercise 2.ipynb",
      "provenance": [],
      "collapsed_sections": [],
      "include_colab_link": true
    },
    "kernelspec": {
      "name": "python3",
      "display_name": "Python 3"
    },
    "language_info": {
      "name": "python"
    }
  },
  "cells": [
    {
      "cell_type": "markdown",
      "metadata": {
        "id": "view-in-github",
        "colab_type": "text"
      },
      "source": [
        "<a href=\"https://colab.research.google.com/github/Yelaina/Python-Projects/blob/main/Copy_of_SC385_Spring_Data_Analysis_Exercise_2.ipynb\" target=\"_parent\"><img src=\"https://colab.research.google.com/assets/colab-badge.svg\" alt=\"Open In Colab\"/></a>"
      ]
    },
    {
      "cell_type": "markdown",
      "metadata": {
        "id": "UJMD4tQV4hHH"
      },
      "source": [
        "# Data analysis exercise 2\n",
        "\n",
        "#### SC385 Spring Term, 2020–2021\n",
        "\n",
        "## 1. Introduction\n",
        "In this exercise, you will use social and health-related variables (also called _features_ in the machine learning literature) to predict who is likely or not to take up a Covid-19 vaccine. Results from such an analysis could be useful, for example, if the NHS plans an information campaign among people who are unlikely to vaccinate. You will use data from [The Understanding Society: COVID-19 Study](https://www.understandingsociety.ac.uk/topic/covid-19). Below is a description of the outcome variable and predictive features, many of which we used in our lab on prediction and unsupervised machine learning. \n",
        "\n",
        "## 2. Outcome and predictive features  \n",
        "#### Outcome: Output _(Y)_\n",
        "\n",
        "|Description| Variable| Values\n",
        "| ---| ---|---|\n",
        "|Likelihood of taking up a coronavirus vaccination | cf_vaxxer | 1 = Very likely, 2 = Likely, 3 = Unlikely, 4 = Very unlikely\n",
        "\n",
        "#### Predictors: Input features _(X)_\n",
        "\n",
        "|Description| Variable| Values\n",
        "| ---| ---|---|\n",
        "|Age | cf_age | Integer values (whole numbers)\n",
        "| Respondent sex | cf_sex_cv | 1 = Male, 2 = Female, 3 = Prefer not to say\n",
        "| General health | cf_scsf1 | 1 = Excelent, 2 = Very good, 3 = Good, 4 = Fair, 5 = Poor \n",
        "| At risk of serious illness from COVID-19 | cf_clinvuln_dv | 0 = no risk (not clinically vulnerable), 1 = moderate risk (clinically vulnerable), 2 = high risk (clinically extremely vulnerable)\n",
        "| People in this neighbourhood can be trusted | cf_nbrcoh3 | 1 = Strongly agree, 2 = Agree, 3 = Neither agree nor disagree, 4 = Disagree, 5 = Strongly disagree\n",
        "\n",
        "## 3. Python libraries \n",
        "To perform your analysis, you will need to import Python libraries and modules we used in the lab on prediction and supervised machine learning, for example `sklearn`, `pandas`, `numpy`, `seaborn`, `matplotlib.pyplot`.\n",
        "\n",
        "## 4. Tasks\n",
        "\n",
        "### 4.1. Exploratory data analysis\n",
        "* Describe and visualise and describe the outcome variable (cf_vaxxer) using the approach we used in the lab on prediction and supervised machine learning. \n",
        "* Describe and visualise one of the features of your choice.\n",
        "\n",
        "Use descriptive statistics and visualisations appropriate for the respective variable.    \n",
        "\n",
        "### 4.2. Preparing variables for your machine leaning modelling\n",
        "* Transform the outcome variable to a binary variable where 1 means likely to take up a Covid vaccine and 0 means unlikely to take a Covid vaccine. \n",
        "* Preprocess the features: standardise the continuous variables and create dummy variables out of the categorical variables   \n",
        "\n",
        "### 4.3. Splitting the data and balancing the class labels\n",
        "* Split the data into train and test data sets using the `sklearn` function `train_test_split`: \n",
        "  * Set the proportion of the dataset to include in the test split to 0.3 (this will split the data into 30% test set and 70% train set). \n",
        "  * Use the parameter `stratify` and pass your outcome array `y` as an argument so that your train and test data set have the same proportion of majority (1) and minority (0) class labels. \n",
        "* To balance the two classes, use the method called ADASYN: Adaptive Synthetic Sampling Method for Imbalanced Data. The method over-samples the minority class in the training data set until both classes have an equal number of observations.\n",
        "\n",
        "### 4.4. Model initialisation, model fitting, and model validation using the train data\n",
        "* Initialise many [`KNeighborsClassifier`](https://scikit-learn.org/stable/modules/generated/sklearn.neighbors.KNeighborsClassifier.html) classifiers by varying the `n_neighbors` parameter between 1 and 20 and fit on the training set. Import the function [`cross_val_score()`](https://scikit-learn.org/stable/modules/generated/sklearn.model_selection.cross_val_score.html) and perform 5-fold cross-validation to evaluate the twenty models using the accuracy score. You can use the same procedure we used to find the best number of _k_ clusters in the lab on _k_-mean clustering. \n",
        "* Repeat the procedure but this time set the parameter `weights` in the [`KNeighborsClassifier`](https://scikit-learn.org/stable/modules/generated/sklearn.neighbors.KNeighborsClassifier.html) estimator to `distance` so that closer neighbours of a query point will have a greater influence than distant neighbours.\n",
        "* Briefly describe your results and select the model with the highest accuracy score from the cross-validation method. \n",
        "\n",
        "### 4.5. Predict who is likely or not to take up a Covid-19 vaccine \n",
        "* Use the model with the highest accuracy to predict unseen observations in the test data. In this case, the aim is to predict people who would take up or not a Covid-19 vaccine based on social and health features.\n",
        "* Describe the performance of your classification model on the test data by  reporting the model accuracy score and the confusion matrix. \n",
        "* Briefly interpret your results: \n",
        "  * What is the accuracy of your prediction of vaccination likelihood? \n",
        "  * Report and interpret the values from the confusion matrix, including true positives, false positives, true negatives, and false negatives. Which scores are of interest for your analysis, those related to the positive class (likely to vaccinate) or negative class (unlikely to vaccinate)? Why?   \n",
        "  * In an event that the NHS plans an information campaign among people who are unlikely to vaccinate, which scores in the confusion matrix would be more important to evaluate the performance of your model? \n",
        "  * What would you change in order to improve the predictive accuracy of your classification model?\n",
        "\n",
        "## 5. Reproducible research report and good research practices\n",
        "To create a reproducible research report, use throughout the notebook:\n",
        "* Python code in Code cells\n",
        "* Hashtag symbol `#` in Code cells to introduce a comment line describing your Python code\n",
        "* Markdown language in Text cells to write up your methods, results, and interpretation.\n",
        "\n",
        "Before submission, please `Restart and run all` (under `Runtime` in the Colab menu bar) to make sure that your data analysis is computationally reproducible.\n",
        "\n",
        "Feel free to reuse and reference code from the module Colab notebooks. You are also encouraged to consult and refer to online tutorials and sources, including [DataCamp](https://learn.datacamp.com/courses/introduction-to-data-science-in-python) courses (in particular the course [_Supervised Learning with scikit-learn_](https://learn.datacamp.com/courses/supervised-learning-with-scikit-learn)) and [Stack Overflow](https://stackoverflow.com/questions/42406233/how-to-add-title-to-seaborn-boxplot). You can refer to such sources by providing links pointing to them similar to the links to DataCamp and Stack Overflow in the previous sentence.        \n",
        "\n",
        "## 6. Submission\n",
        "You need to submit your notebook by 10am on 9 April 2021 on FASER. You can download your Colab notebook from `File` and then `Download .ipynb`, and submit on FASER your downloaded notebook."
      ]
    },
    {
      "cell_type": "code",
      "metadata": {
        "id": "9lzP4YJd9k4n"
      },
      "source": [
        "#import libraries\n",
        "import pandas as pd\n",
        "import seaborn as sns"
      ],
      "execution_count": null,
      "outputs": []
    },
    {
      "cell_type": "markdown",
      "metadata": {
        "id": "-Xh1Fh7r95TY"
      },
      "source": [
        ""
      ]
    },
    {
      "cell_type": "code",
      "metadata": {
        "id": "rKlaZpndaU8F",
        "colab": {
          "base_uri": "https://localhost:8080/"
        },
        "outputId": "310af5f1-889e-4247-bfd0-3659e6adbf6f"
      },
      "source": [
        "# Import the Drive helper\n",
        "from google.colab import drive\n",
        "\n",
        "drive.mount('/content/drive')"
      ],
      "execution_count": null,
      "outputs": [
        {
          "output_type": "stream",
          "text": [
            "Mounted at /content/drive\n"
          ],
          "name": "stdout"
        }
      ]
    },
    {
      "cell_type": "code",
      "metadata": {
        "id": "RLoByaus-XJU"
      },
      "source": [
        "# Loading the data\n",
        "USocietyCovid = pd.read_csv('/content/drive/My Drive/UnderstandingSocietyCovidNov2020.csv')"
      ],
      "execution_count": null,
      "outputs": []
    },
    {
      "cell_type": "code",
      "metadata": {
        "colab": {
          "base_uri": "https://localhost:8080/",
          "height": 412
        },
        "id": "ZAkQp1xLT7S6",
        "outputId": "7dc30887-68af-4feb-b446-44586ddea45b"
      },
      "source": [
        "#Using the 'head' function to return the first 5 rows of the data frame, in order to quickly test if the object has the right type of data in it.\n",
        "USocietyCovid.head()"
      ],
      "execution_count": null,
      "outputs": [
        {
          "output_type": "execute_result",
          "data": {
            "text/html": [
              "<div>\n",
              "<style scoped>\n",
              "    .dataframe tbody tr th:only-of-type {\n",
              "        vertical-align: middle;\n",
              "    }\n",
              "\n",
              "    .dataframe tbody tr th {\n",
              "        vertical-align: top;\n",
              "    }\n",
              "\n",
              "    .dataframe thead th {\n",
              "        text-align: right;\n",
              "    }\n",
              "</style>\n",
              "<table border=\"1\" class=\"dataframe\">\n",
              "  <thead>\n",
              "    <tr style=\"text-align: right;\">\n",
              "      <th></th>\n",
              "      <th>pidp</th>\n",
              "      <th>psu</th>\n",
              "      <th>strata</th>\n",
              "      <th>birthy</th>\n",
              "      <th>racel_dv</th>\n",
              "      <th>bornuk_dv</th>\n",
              "      <th>i_hidp</th>\n",
              "      <th>j_hidp</th>\n",
              "      <th>k_hidp</th>\n",
              "      <th>i_ioutcome</th>\n",
              "      <th>j_ioutcome</th>\n",
              "      <th>k_ioutcome</th>\n",
              "      <th>cf_welsh</th>\n",
              "      <th>cf_dobchk</th>\n",
              "      <th>cf_age</th>\n",
              "      <th>cf_sex_cv</th>\n",
              "      <th>cf_addrchk</th>\n",
              "      <th>cf_couplewsh</th>\n",
              "      <th>cf_hhnum</th>\n",
              "      <th>cf_personsexa</th>\n",
              "      <th>cf_personsexb</th>\n",
              "      <th>cf_personsexc</th>\n",
              "      <th>cf_personsexd</th>\n",
              "      <th>cf_personsexe</th>\n",
              "      <th>cf_personsexf</th>\n",
              "      <th>cf_personsexg</th>\n",
              "      <th>cf_personsexh</th>\n",
              "      <th>cf_personsexi</th>\n",
              "      <th>cf_personsexj</th>\n",
              "      <th>cf_personsexk</th>\n",
              "      <th>cf_personagea</th>\n",
              "      <th>cf_personageb</th>\n",
              "      <th>cf_personagec</th>\n",
              "      <th>cf_personaged</th>\n",
              "      <th>cf_personagee</th>\n",
              "      <th>cf_personagef</th>\n",
              "      <th>cf_personageg</th>\n",
              "      <th>cf_personageh</th>\n",
              "      <th>cf_personagei</th>\n",
              "      <th>cf_personagej</th>\n",
              "      <th>...</th>\n",
              "      <th>cf_tslonelyend</th>\n",
              "      <th>cf_tscffst</th>\n",
              "      <th>cf_tscffend</th>\n",
              "      <th>cf_tshsingst</th>\n",
              "      <th>cf_tshsingend</th>\n",
              "      <th>cf_tsempst</th>\n",
              "      <th>cf_tsempend</th>\n",
              "      <th>cf_tsttwst</th>\n",
              "      <th>cf_tsttwend</th>\n",
              "      <th>cf_tstranspst</th>\n",
              "      <th>cf_tstranspend</th>\n",
              "      <th>cf_tsfinst</th>\n",
              "      <th>cf_tsfinend</th>\n",
              "      <th>cf_tsfinsecst</th>\n",
              "      <th>cf_tsfinsecend</th>\n",
              "      <th>cf_tsnbhdst</th>\n",
              "      <th>cf_tsnbhdend</th>\n",
              "      <th>cf_tsnovschst</th>\n",
              "      <th>cf_tsnovschend</th>\n",
              "      <th>cf_tslfsatst</th>\n",
              "      <th>cf_tslfsatend</th>\n",
              "      <th>cf_tsghqst</th>\n",
              "      <th>cf_tsghqend</th>\n",
              "      <th>cf_tsclosest</th>\n",
              "      <th>cf_tscloseend</th>\n",
              "      <th>cf_screenres</th>\n",
              "      <th>cf_browserres</th>\n",
              "      <th>cf_useragentstring</th>\n",
              "      <th>cf_ff_prevsurv</th>\n",
              "      <th>cf_ff_intd</th>\n",
              "      <th>cf_ff_intm</th>\n",
              "      <th>cf_ff_inty</th>\n",
              "      <th>cf_ff_country</th>\n",
              "      <th>cf_gor_dv</th>\n",
              "      <th>cf_aid_dv</th>\n",
              "      <th>cf_betaindin_xw</th>\n",
              "      <th>cf_betaindin_xw_t</th>\n",
              "      <th>cf_betaindin_lw</th>\n",
              "      <th>cf_betaindin_lw_t1</th>\n",
              "      <th>cf_betaindin_lw_t2</th>\n",
              "    </tr>\n",
              "  </thead>\n",
              "  <tbody>\n",
              "    <tr>\n",
              "      <th>0</th>\n",
              "      <td>76165</td>\n",
              "      <td>19</td>\n",
              "      <td>6</td>\n",
              "      <td>1982</td>\n",
              "      <td>1</td>\n",
              "      <td>1</td>\n",
              "      <td>141657616</td>\n",
              "      <td>141460418</td>\n",
              "      <td>141045620</td>\n",
              "      <td>11</td>\n",
              "      <td>11</td>\n",
              "      <td>11</td>\n",
              "      <td>-8</td>\n",
              "      <td>1</td>\n",
              "      <td>37</td>\n",
              "      <td>2</td>\n",
              "      <td>1</td>\n",
              "      <td>-8</td>\n",
              "      <td>4</td>\n",
              "      <td>1</td>\n",
              "      <td>1</td>\n",
              "      <td>1</td>\n",
              "      <td>-8</td>\n",
              "      <td>-8</td>\n",
              "      <td>-8</td>\n",
              "      <td>-8</td>\n",
              "      <td>-8</td>\n",
              "      <td>-8</td>\n",
              "      <td>-8</td>\n",
              "      <td>-8</td>\n",
              "      <td>40</td>\n",
              "      <td>4</td>\n",
              "      <td>1</td>\n",
              "      <td>-8</td>\n",
              "      <td>-8</td>\n",
              "      <td>-8</td>\n",
              "      <td>-8</td>\n",
              "      <td>-8</td>\n",
              "      <td>-8</td>\n",
              "      <td>-8</td>\n",
              "      <td>...</td>\n",
              "      <td>11/29/2020 15:28:18</td>\n",
              "      <td>11/29/2020 15:28:18</td>\n",
              "      <td>11/29/2020 15:28:44</td>\n",
              "      <td>11/29/2020 15:28:44</td>\n",
              "      <td>11/29/2020 15:28:50</td>\n",
              "      <td>11/29/2020 15:28:50</td>\n",
              "      <td>11/29/2020 15:32:04</td>\n",
              "      <td>11/29/2020 15:32:04</td>\n",
              "      <td>11/29/2020 15:32:04</td>\n",
              "      <td>11/29/2020 15:32:04</td>\n",
              "      <td>11/29/2020 15:32:36</td>\n",
              "      <td>11/29/2020 15:32:36</td>\n",
              "      <td>11/29/2020 15:34:36</td>\n",
              "      <td>11/29/2020 15:34:36</td>\n",
              "      <td>11/29/2020 15:35:18</td>\n",
              "      <td>11/29/2020 15:35:18</td>\n",
              "      <td>11/29/2020 15:35:51</td>\n",
              "      <td>11/29/2020 15:35:51</td>\n",
              "      <td>11/29/2020 15:36:02</td>\n",
              "      <td>11/29/2020 15:36:02</td>\n",
              "      <td>11/29/2020 15:36:11</td>\n",
              "      <td>11/29/2020 15:36:11</td>\n",
              "      <td>11/29/2020 15:36:38</td>\n",
              "      <td>11/29/2020 15:36:38</td>\n",
              "      <td>11/29/2020 15:41:09</td>\n",
              "      <td>412x892</td>\n",
              "      <td>412x771</td>\n",
              "      <td>Mozilla/5.0 (Linux; Android 10; moto g(8)) App...</td>\n",
              "      <td>1</td>\n",
              "      <td>28</td>\n",
              "      <td>9</td>\n",
              "      <td>2020</td>\n",
              "      <td>1</td>\n",
              "      <td>5</td>\n",
              "      <td>617990</td>\n",
              "      <td>0.000000</td>\n",
              "      <td>0.000000</td>\n",
              "      <td>0.000000</td>\n",
              "      <td>0.000000</td>\n",
              "      <td>0.000000</td>\n",
              "    </tr>\n",
              "    <tr>\n",
              "      <th>1</th>\n",
              "      <td>732365</td>\n",
              "      <td>157</td>\n",
              "      <td>43</td>\n",
              "      <td>1985</td>\n",
              "      <td>1</td>\n",
              "      <td>1</td>\n",
              "      <td>619371216</td>\n",
              "      <td>618949618</td>\n",
              "      <td>618698020</td>\n",
              "      <td>11</td>\n",
              "      <td>11</td>\n",
              "      <td>11</td>\n",
              "      <td>-8</td>\n",
              "      <td>1</td>\n",
              "      <td>35</td>\n",
              "      <td>1</td>\n",
              "      <td>1</td>\n",
              "      <td>-8</td>\n",
              "      <td>3</td>\n",
              "      <td>1</td>\n",
              "      <td>2</td>\n",
              "      <td>-8</td>\n",
              "      <td>-8</td>\n",
              "      <td>-8</td>\n",
              "      <td>-8</td>\n",
              "      <td>-8</td>\n",
              "      <td>-8</td>\n",
              "      <td>-8</td>\n",
              "      <td>-8</td>\n",
              "      <td>-8</td>\n",
              "      <td>60</td>\n",
              "      <td>60</td>\n",
              "      <td>-8</td>\n",
              "      <td>-8</td>\n",
              "      <td>-8</td>\n",
              "      <td>-8</td>\n",
              "      <td>-8</td>\n",
              "      <td>-8</td>\n",
              "      <td>-8</td>\n",
              "      <td>-8</td>\n",
              "      <td>...</td>\n",
              "      <td>11/26/2020 19:33:19</td>\n",
              "      <td>11/26/2020 19:33:19</td>\n",
              "      <td>11/26/2020 19:34:02</td>\n",
              "      <td>11/26/2020 19:34:02</td>\n",
              "      <td>11/26/2020 19:34:09</td>\n",
              "      <td>11/26/2020 19:34:09</td>\n",
              "      <td>11/26/2020 19:36:07</td>\n",
              "      <td>11/26/2020 19:36:07</td>\n",
              "      <td>11/26/2020 19:36:07</td>\n",
              "      <td>11/26/2020 19:36:07</td>\n",
              "      <td>11/26/2020 19:36:39</td>\n",
              "      <td>11/26/2020 19:36:39</td>\n",
              "      <td>11/26/2020 19:38:17</td>\n",
              "      <td>11/26/2020 19:38:17</td>\n",
              "      <td>11/26/2020 19:38:50</td>\n",
              "      <td>11/26/2020 19:38:50</td>\n",
              "      <td>11/26/2020 19:42:51</td>\n",
              "      <td>11/26/2020 19:42:51</td>\n",
              "      <td>11/26/2020 19:42:51</td>\n",
              "      <td>11/26/2020 19:42:51</td>\n",
              "      <td>11/26/2020 19:42:57</td>\n",
              "      <td>11/26/2020 19:42:57</td>\n",
              "      <td>11/26/2020 19:43:50</td>\n",
              "      <td>11/26/2020 19:43:50</td>\n",
              "      <td>11/26/2020 19:44:10</td>\n",
              "      <td>1536x2048</td>\n",
              "      <td>1024x656</td>\n",
              "      <td>Mozilla/5.0 (Macintosh; Intel Mac OS X 10_15_6...</td>\n",
              "      <td>1</td>\n",
              "      <td>24</td>\n",
              "      <td>9</td>\n",
              "      <td>2020</td>\n",
              "      <td>1</td>\n",
              "      <td>2</td>\n",
              "      <td>613916</td>\n",
              "      <td>2.169419</td>\n",
              "      <td>2.130569</td>\n",
              "      <td>0.000000</td>\n",
              "      <td>2.733655</td>\n",
              "      <td>2.316389</td>\n",
              "    </tr>\n",
              "    <tr>\n",
              "      <th>2</th>\n",
              "      <td>1587125</td>\n",
              "      <td>215</td>\n",
              "      <td>65</td>\n",
              "      <td>1965</td>\n",
              "      <td>13</td>\n",
              "      <td>1</td>\n",
              "      <td>618269616</td>\n",
              "      <td>617895618</td>\n",
              "      <td>617671220</td>\n",
              "      <td>11</td>\n",
              "      <td>11</td>\n",
              "      <td>11</td>\n",
              "      <td>-8</td>\n",
              "      <td>1</td>\n",
              "      <td>55</td>\n",
              "      <td>2</td>\n",
              "      <td>1</td>\n",
              "      <td>-8</td>\n",
              "      <td>1</td>\n",
              "      <td>-8</td>\n",
              "      <td>-8</td>\n",
              "      <td>-8</td>\n",
              "      <td>-8</td>\n",
              "      <td>-8</td>\n",
              "      <td>-8</td>\n",
              "      <td>-8</td>\n",
              "      <td>-8</td>\n",
              "      <td>-8</td>\n",
              "      <td>-8</td>\n",
              "      <td>-8</td>\n",
              "      <td>-8</td>\n",
              "      <td>-8</td>\n",
              "      <td>-8</td>\n",
              "      <td>-8</td>\n",
              "      <td>-8</td>\n",
              "      <td>-8</td>\n",
              "      <td>-8</td>\n",
              "      <td>-8</td>\n",
              "      <td>-8</td>\n",
              "      <td>-8</td>\n",
              "      <td>...</td>\n",
              "      <td>11/26/2020 20:10:14</td>\n",
              "      <td>11/26/2020 20:10:14</td>\n",
              "      <td>11/26/2020 20:10:44</td>\n",
              "      <td>11/26/2020 20:10:44</td>\n",
              "      <td>11/26/2020 20:10:52</td>\n",
              "      <td>11/26/2020 20:10:52</td>\n",
              "      <td>11/26/2020 20:12:31</td>\n",
              "      <td>11/26/2020 20:12:31</td>\n",
              "      <td>11/26/2020 20:12:37</td>\n",
              "      <td>11/26/2020 20:12:37</td>\n",
              "      <td>11/26/2020 20:13:03</td>\n",
              "      <td>11/26/2020 20:13:03</td>\n",
              "      <td>11/26/2020 20:14:49</td>\n",
              "      <td>11/26/2020 20:14:49</td>\n",
              "      <td>11/26/2020 20:15:36</td>\n",
              "      <td>11/26/2020 20:15:36</td>\n",
              "      <td>11/26/2020 20:16:06</td>\n",
              "      <td>11/26/2020 20:16:06</td>\n",
              "      <td>11/26/2020 20:16:06</td>\n",
              "      <td>11/26/2020 20:16:06</td>\n",
              "      <td>11/26/2020 20:16:09</td>\n",
              "      <td>11/26/2020 20:16:09</td>\n",
              "      <td>11/26/2020 20:46:51</td>\n",
              "      <td>11/26/2020 20:46:51</td>\n",
              "      <td>11/26/2020 20:47:09</td>\n",
              "      <td>360x740</td>\n",
              "      <td>360x572</td>\n",
              "      <td>Mozilla/5.0 (Linux; Android 9; SAMSUNG SM-G950...</td>\n",
              "      <td>1</td>\n",
              "      <td>25</td>\n",
              "      <td>9</td>\n",
              "      <td>2020</td>\n",
              "      <td>1</td>\n",
              "      <td>1</td>\n",
              "      <td>601698</td>\n",
              "      <td>0.513182</td>\n",
              "      <td>0.509362</td>\n",
              "      <td>0.512137</td>\n",
              "      <td>0.503554</td>\n",
              "      <td>0.512945</td>\n",
              "    </tr>\n",
              "    <tr>\n",
              "      <th>3</th>\n",
              "      <td>4849085</td>\n",
              "      <td>560</td>\n",
              "      <td>148</td>\n",
              "      <td>1982</td>\n",
              "      <td>1</td>\n",
              "      <td>1</td>\n",
              "      <td>347554816</td>\n",
              "      <td>347255618</td>\n",
              "      <td>346990420</td>\n",
              "      <td>11</td>\n",
              "      <td>11</td>\n",
              "      <td>11</td>\n",
              "      <td>-8</td>\n",
              "      <td>1</td>\n",
              "      <td>38</td>\n",
              "      <td>1</td>\n",
              "      <td>1</td>\n",
              "      <td>-8</td>\n",
              "      <td>2</td>\n",
              "      <td>1</td>\n",
              "      <td>-8</td>\n",
              "      <td>-8</td>\n",
              "      <td>-8</td>\n",
              "      <td>-8</td>\n",
              "      <td>-8</td>\n",
              "      <td>-8</td>\n",
              "      <td>-8</td>\n",
              "      <td>-8</td>\n",
              "      <td>-8</td>\n",
              "      <td>-8</td>\n",
              "      <td>44</td>\n",
              "      <td>-8</td>\n",
              "      <td>-8</td>\n",
              "      <td>-8</td>\n",
              "      <td>-8</td>\n",
              "      <td>-8</td>\n",
              "      <td>-8</td>\n",
              "      <td>-8</td>\n",
              "      <td>-8</td>\n",
              "      <td>-8</td>\n",
              "      <td>...</td>\n",
              "      <td>11/26/2020 21:12:20</td>\n",
              "      <td>11/26/2020 21:12:20</td>\n",
              "      <td>11/26/2020 21:12:44</td>\n",
              "      <td>11/26/2020 21:12:44</td>\n",
              "      <td>11/26/2020 21:13:03</td>\n",
              "      <td>11/26/2020 21:13:03</td>\n",
              "      <td>11/26/2020 21:15:36</td>\n",
              "      <td>11/26/2020 21:15:36</td>\n",
              "      <td>11/26/2020 21:15:41</td>\n",
              "      <td>11/26/2020 21:15:41</td>\n",
              "      <td>11/26/2020 21:16:02</td>\n",
              "      <td>11/26/2020 21:16:02</td>\n",
              "      <td>11/26/2020 21:18:07</td>\n",
              "      <td>11/26/2020 21:18:07</td>\n",
              "      <td>11/26/2020 21:18:42</td>\n",
              "      <td>11/26/2020 21:18:42</td>\n",
              "      <td>11/26/2020 21:19:04</td>\n",
              "      <td>11/26/2020 21:19:04</td>\n",
              "      <td>11/26/2020 21:19:04</td>\n",
              "      <td>11/26/2020 21:19:04</td>\n",
              "      <td>11/26/2020 21:19:08</td>\n",
              "      <td>11/26/2020 21:19:08</td>\n",
              "      <td>11/26/2020 21:19:47</td>\n",
              "      <td>11/26/2020 21:19:47</td>\n",
              "      <td>11/26/2020 21:20:10</td>\n",
              "      <td>1668x2224</td>\n",
              "      <td>1112x731</td>\n",
              "      <td>Mozilla/5.0 (Macintosh; Intel Mac OS X 10_15_6...</td>\n",
              "      <td>1</td>\n",
              "      <td>24</td>\n",
              "      <td>9</td>\n",
              "      <td>2020</td>\n",
              "      <td>3</td>\n",
              "      <td>11</td>\n",
              "      <td>613595</td>\n",
              "      <td>0.000000</td>\n",
              "      <td>0.000000</td>\n",
              "      <td>0.000000</td>\n",
              "      <td>0.000000</td>\n",
              "      <td>0.000000</td>\n",
              "    </tr>\n",
              "    <tr>\n",
              "      <th>4</th>\n",
              "      <td>68002725</td>\n",
              "      <td>1</td>\n",
              "      <td>1</td>\n",
              "      <td>1953</td>\n",
              "      <td>12</td>\n",
              "      <td>2</td>\n",
              "      <td>73025216</td>\n",
              "      <td>72739618</td>\n",
              "      <td>72420020</td>\n",
              "      <td>11</td>\n",
              "      <td>11</td>\n",
              "      <td>11</td>\n",
              "      <td>-8</td>\n",
              "      <td>1</td>\n",
              "      <td>67</td>\n",
              "      <td>2</td>\n",
              "      <td>1</td>\n",
              "      <td>-8</td>\n",
              "      <td>1</td>\n",
              "      <td>-8</td>\n",
              "      <td>-8</td>\n",
              "      <td>-8</td>\n",
              "      <td>-8</td>\n",
              "      <td>-8</td>\n",
              "      <td>-8</td>\n",
              "      <td>-8</td>\n",
              "      <td>-8</td>\n",
              "      <td>-8</td>\n",
              "      <td>-8</td>\n",
              "      <td>-8</td>\n",
              "      <td>-8</td>\n",
              "      <td>-8</td>\n",
              "      <td>-8</td>\n",
              "      <td>-8</td>\n",
              "      <td>-8</td>\n",
              "      <td>-8</td>\n",
              "      <td>-8</td>\n",
              "      <td>-8</td>\n",
              "      <td>-8</td>\n",
              "      <td>-8</td>\n",
              "      <td>...</td>\n",
              "      <td>11/29/2020 15:27:01</td>\n",
              "      <td>11/29/2020 15:27:01</td>\n",
              "      <td>11/29/2020 15:28:03</td>\n",
              "      <td>11/29/2020 15:28:03</td>\n",
              "      <td>11/29/2020 15:28:20</td>\n",
              "      <td>11/29/2020 15:28:20</td>\n",
              "      <td>11/29/2020 15:31:29</td>\n",
              "      <td>11/29/2020 15:31:29</td>\n",
              "      <td>11/29/2020 15:31:29</td>\n",
              "      <td>11/29/2020 15:31:29</td>\n",
              "      <td>11/29/2020 15:32:36</td>\n",
              "      <td>11/29/2020 15:32:36</td>\n",
              "      <td>11/29/2020 15:36:51</td>\n",
              "      <td>11/29/2020 15:36:51</td>\n",
              "      <td>11/29/2020 15:38:59</td>\n",
              "      <td>11/29/2020 15:38:59</td>\n",
              "      <td>11/29/2020 15:39:51</td>\n",
              "      <td>11/29/2020 15:39:51</td>\n",
              "      <td>11/29/2020 15:39:51</td>\n",
              "      <td>11/29/2020 15:39:51</td>\n",
              "      <td>11/29/2020 15:40:15</td>\n",
              "      <td>11/29/2020 15:40:15</td>\n",
              "      <td>11/29/2020 15:41:51</td>\n",
              "      <td>11/29/2020 15:41:51</td>\n",
              "      <td>11/29/2020 15:43:13</td>\n",
              "      <td>1536x864</td>\n",
              "      <td>1536x760</td>\n",
              "      <td>Mozilla/5.0 (Windows NT 10.0; Win64; x64) Appl...</td>\n",
              "      <td>1</td>\n",
              "      <td>29</td>\n",
              "      <td>9</td>\n",
              "      <td>2020</td>\n",
              "      <td>1</td>\n",
              "      <td>7</td>\n",
              "      <td>609683</td>\n",
              "      <td>0.000000</td>\n",
              "      <td>0.000000</td>\n",
              "      <td>0.000000</td>\n",
              "      <td>0.000000</td>\n",
              "      <td>0.000000</td>\n",
              "    </tr>\n",
              "  </tbody>\n",
              "</table>\n",
              "<p>5 rows × 916 columns</p>\n",
              "</div>"
            ],
            "text/plain": [
              "       pidp  psu  ...  cf_betaindin_lw_t1  cf_betaindin_lw_t2\n",
              "0     76165   19  ...            0.000000            0.000000\n",
              "1    732365  157  ...            2.733655            2.316389\n",
              "2   1587125  215  ...            0.503554            0.512945\n",
              "3   4849085  560  ...            0.000000            0.000000\n",
              "4  68002725    1  ...            0.000000            0.000000\n",
              "\n",
              "[5 rows x 916 columns]"
            ]
          },
          "metadata": {
            "tags": []
          },
          "execution_count": 5
        }
      ]
    },
    {
      "cell_type": "code",
      "metadata": {
        "colab": {
          "base_uri": "https://localhost:8080/",
          "height": 402
        },
        "id": "QVrOgPGtYsHi",
        "outputId": "34c3764f-14a9-43d1-a422-993bd973f7fc"
      },
      "source": [
        "#Selecting the Variables\n",
        "USocietyCovid = USocietyCovid[['cf_vaxxer', 'cf_age', 'cf_sex_cv', 'cf_scsf1','cf_clinvuln_dv', 'cf_nbrcoh3']]\n",
        "USocietyCovid"
      ],
      "execution_count": null,
      "outputs": [
        {
          "output_type": "execute_result",
          "data": {
            "text/html": [
              "<div>\n",
              "<style scoped>\n",
              "    .dataframe tbody tr th:only-of-type {\n",
              "        vertical-align: middle;\n",
              "    }\n",
              "\n",
              "    .dataframe tbody tr th {\n",
              "        vertical-align: top;\n",
              "    }\n",
              "\n",
              "    .dataframe thead th {\n",
              "        text-align: right;\n",
              "    }\n",
              "</style>\n",
              "<table border=\"1\" class=\"dataframe\">\n",
              "  <thead>\n",
              "    <tr style=\"text-align: right;\">\n",
              "      <th></th>\n",
              "      <th>cf_vaxxer</th>\n",
              "      <th>cf_age</th>\n",
              "      <th>cf_sex_cv</th>\n",
              "      <th>cf_scsf1</th>\n",
              "      <th>cf_clinvuln_dv</th>\n",
              "      <th>cf_nbrcoh3</th>\n",
              "    </tr>\n",
              "  </thead>\n",
              "  <tbody>\n",
              "    <tr>\n",
              "      <th>0</th>\n",
              "      <td>2</td>\n",
              "      <td>37</td>\n",
              "      <td>2</td>\n",
              "      <td>2</td>\n",
              "      <td>0</td>\n",
              "      <td>3</td>\n",
              "    </tr>\n",
              "    <tr>\n",
              "      <th>1</th>\n",
              "      <td>3</td>\n",
              "      <td>35</td>\n",
              "      <td>1</td>\n",
              "      <td>4</td>\n",
              "      <td>0</td>\n",
              "      <td>4</td>\n",
              "    </tr>\n",
              "    <tr>\n",
              "      <th>2</th>\n",
              "      <td>3</td>\n",
              "      <td>55</td>\n",
              "      <td>2</td>\n",
              "      <td>2</td>\n",
              "      <td>0</td>\n",
              "      <td>3</td>\n",
              "    </tr>\n",
              "    <tr>\n",
              "      <th>3</th>\n",
              "      <td>1</td>\n",
              "      <td>38</td>\n",
              "      <td>1</td>\n",
              "      <td>3</td>\n",
              "      <td>1</td>\n",
              "      <td>2</td>\n",
              "    </tr>\n",
              "    <tr>\n",
              "      <th>4</th>\n",
              "      <td>1</td>\n",
              "      <td>67</td>\n",
              "      <td>2</td>\n",
              "      <td>2</td>\n",
              "      <td>0</td>\n",
              "      <td>3</td>\n",
              "    </tr>\n",
              "    <tr>\n",
              "      <th>...</th>\n",
              "      <td>...</td>\n",
              "      <td>...</td>\n",
              "      <td>...</td>\n",
              "      <td>...</td>\n",
              "      <td>...</td>\n",
              "      <td>...</td>\n",
              "    </tr>\n",
              "    <tr>\n",
              "      <th>12030</th>\n",
              "      <td>1</td>\n",
              "      <td>57</td>\n",
              "      <td>1</td>\n",
              "      <td>2</td>\n",
              "      <td>0</td>\n",
              "      <td>2</td>\n",
              "    </tr>\n",
              "    <tr>\n",
              "      <th>12031</th>\n",
              "      <td>2</td>\n",
              "      <td>70</td>\n",
              "      <td>2</td>\n",
              "      <td>3</td>\n",
              "      <td>1</td>\n",
              "      <td>3</td>\n",
              "    </tr>\n",
              "    <tr>\n",
              "      <th>12032</th>\n",
              "      <td>2</td>\n",
              "      <td>64</td>\n",
              "      <td>1</td>\n",
              "      <td>2</td>\n",
              "      <td>0</td>\n",
              "      <td>3</td>\n",
              "    </tr>\n",
              "    <tr>\n",
              "      <th>12033</th>\n",
              "      <td>4</td>\n",
              "      <td>31</td>\n",
              "      <td>1</td>\n",
              "      <td>1</td>\n",
              "      <td>0</td>\n",
              "      <td>-8</td>\n",
              "    </tr>\n",
              "    <tr>\n",
              "      <th>12034</th>\n",
              "      <td>3</td>\n",
              "      <td>41</td>\n",
              "      <td>2</td>\n",
              "      <td>3</td>\n",
              "      <td>0</td>\n",
              "      <td>1</td>\n",
              "    </tr>\n",
              "  </tbody>\n",
              "</table>\n",
              "<p>12035 rows × 6 columns</p>\n",
              "</div>"
            ],
            "text/plain": [
              "       cf_vaxxer  cf_age  cf_sex_cv  cf_scsf1  cf_clinvuln_dv  cf_nbrcoh3\n",
              "0              2      37          2         2               0           3\n",
              "1              3      35          1         4               0           4\n",
              "2              3      55          2         2               0           3\n",
              "3              1      38          1         3               1           2\n",
              "4              1      67          2         2               0           3\n",
              "...          ...     ...        ...       ...             ...         ...\n",
              "12030          1      57          1         2               0           2\n",
              "12031          2      70          2         3               1           3\n",
              "12032          2      64          1         2               0           3\n",
              "12033          4      31          1         1               0          -8\n",
              "12034          3      41          2         3               0           1\n",
              "\n",
              "[12035 rows x 6 columns]"
            ]
          },
          "metadata": {
            "tags": []
          },
          "execution_count": 6
        }
      ]
    },
    {
      "cell_type": "code",
      "metadata": {
        "colab": {
          "base_uri": "https://localhost:8080/",
          "height": 402
        },
        "id": "z_pX8B4iYr7q",
        "outputId": "30dd4abc-9893-4eed-8aa5-5bc186dd9887"
      },
      "source": [
        "USocietyCovid = USocietyCovid.mask(USocietyCovid < 0)\n",
        "USocietyCovid"
      ],
      "execution_count": null,
      "outputs": [
        {
          "output_type": "execute_result",
          "data": {
            "text/html": [
              "<div>\n",
              "<style scoped>\n",
              "    .dataframe tbody tr th:only-of-type {\n",
              "        vertical-align: middle;\n",
              "    }\n",
              "\n",
              "    .dataframe tbody tr th {\n",
              "        vertical-align: top;\n",
              "    }\n",
              "\n",
              "    .dataframe thead th {\n",
              "        text-align: right;\n",
              "    }\n",
              "</style>\n",
              "<table border=\"1\" class=\"dataframe\">\n",
              "  <thead>\n",
              "    <tr style=\"text-align: right;\">\n",
              "      <th></th>\n",
              "      <th>cf_vaxxer</th>\n",
              "      <th>cf_age</th>\n",
              "      <th>cf_sex_cv</th>\n",
              "      <th>cf_scsf1</th>\n",
              "      <th>cf_clinvuln_dv</th>\n",
              "      <th>cf_nbrcoh3</th>\n",
              "    </tr>\n",
              "  </thead>\n",
              "  <tbody>\n",
              "    <tr>\n",
              "      <th>0</th>\n",
              "      <td>2.0</td>\n",
              "      <td>37</td>\n",
              "      <td>2</td>\n",
              "      <td>2.0</td>\n",
              "      <td>0.0</td>\n",
              "      <td>3.0</td>\n",
              "    </tr>\n",
              "    <tr>\n",
              "      <th>1</th>\n",
              "      <td>3.0</td>\n",
              "      <td>35</td>\n",
              "      <td>1</td>\n",
              "      <td>4.0</td>\n",
              "      <td>0.0</td>\n",
              "      <td>4.0</td>\n",
              "    </tr>\n",
              "    <tr>\n",
              "      <th>2</th>\n",
              "      <td>3.0</td>\n",
              "      <td>55</td>\n",
              "      <td>2</td>\n",
              "      <td>2.0</td>\n",
              "      <td>0.0</td>\n",
              "      <td>3.0</td>\n",
              "    </tr>\n",
              "    <tr>\n",
              "      <th>3</th>\n",
              "      <td>1.0</td>\n",
              "      <td>38</td>\n",
              "      <td>1</td>\n",
              "      <td>3.0</td>\n",
              "      <td>1.0</td>\n",
              "      <td>2.0</td>\n",
              "    </tr>\n",
              "    <tr>\n",
              "      <th>4</th>\n",
              "      <td>1.0</td>\n",
              "      <td>67</td>\n",
              "      <td>2</td>\n",
              "      <td>2.0</td>\n",
              "      <td>0.0</td>\n",
              "      <td>3.0</td>\n",
              "    </tr>\n",
              "    <tr>\n",
              "      <th>...</th>\n",
              "      <td>...</td>\n",
              "      <td>...</td>\n",
              "      <td>...</td>\n",
              "      <td>...</td>\n",
              "      <td>...</td>\n",
              "      <td>...</td>\n",
              "    </tr>\n",
              "    <tr>\n",
              "      <th>12030</th>\n",
              "      <td>1.0</td>\n",
              "      <td>57</td>\n",
              "      <td>1</td>\n",
              "      <td>2.0</td>\n",
              "      <td>0.0</td>\n",
              "      <td>2.0</td>\n",
              "    </tr>\n",
              "    <tr>\n",
              "      <th>12031</th>\n",
              "      <td>2.0</td>\n",
              "      <td>70</td>\n",
              "      <td>2</td>\n",
              "      <td>3.0</td>\n",
              "      <td>1.0</td>\n",
              "      <td>3.0</td>\n",
              "    </tr>\n",
              "    <tr>\n",
              "      <th>12032</th>\n",
              "      <td>2.0</td>\n",
              "      <td>64</td>\n",
              "      <td>1</td>\n",
              "      <td>2.0</td>\n",
              "      <td>0.0</td>\n",
              "      <td>3.0</td>\n",
              "    </tr>\n",
              "    <tr>\n",
              "      <th>12033</th>\n",
              "      <td>4.0</td>\n",
              "      <td>31</td>\n",
              "      <td>1</td>\n",
              "      <td>1.0</td>\n",
              "      <td>0.0</td>\n",
              "      <td>NaN</td>\n",
              "    </tr>\n",
              "    <tr>\n",
              "      <th>12034</th>\n",
              "      <td>3.0</td>\n",
              "      <td>41</td>\n",
              "      <td>2</td>\n",
              "      <td>3.0</td>\n",
              "      <td>0.0</td>\n",
              "      <td>1.0</td>\n",
              "    </tr>\n",
              "  </tbody>\n",
              "</table>\n",
              "<p>12035 rows × 6 columns</p>\n",
              "</div>"
            ],
            "text/plain": [
              "       cf_vaxxer  cf_age  cf_sex_cv  cf_scsf1  cf_clinvuln_dv  cf_nbrcoh3\n",
              "0            2.0      37          2       2.0             0.0         3.0\n",
              "1            3.0      35          1       4.0             0.0         4.0\n",
              "2            3.0      55          2       2.0             0.0         3.0\n",
              "3            1.0      38          1       3.0             1.0         2.0\n",
              "4            1.0      67          2       2.0             0.0         3.0\n",
              "...          ...     ...        ...       ...             ...         ...\n",
              "12030        1.0      57          1       2.0             0.0         2.0\n",
              "12031        2.0      70          2       3.0             1.0         3.0\n",
              "12032        2.0      64          1       2.0             0.0         3.0\n",
              "12033        4.0      31          1       1.0             0.0         NaN\n",
              "12034        3.0      41          2       3.0             0.0         1.0\n",
              "\n",
              "[12035 rows x 6 columns]"
            ]
          },
          "metadata": {
            "tags": []
          },
          "execution_count": 7
        }
      ]
    },
    {
      "cell_type": "code",
      "metadata": {
        "colab": {
          "base_uri": "https://localhost:8080/",
          "height": 402
        },
        "id": "oNXXzfpEYyFA",
        "outputId": "70cbff8d-b0f3-4172-9df6-d4b6f5a90b31"
      },
      "source": [
        "USocietyCovid_NoNaN = USocietyCovid.dropna()\n",
        "USocietyCovid_NoNaN"
      ],
      "execution_count": null,
      "outputs": [
        {
          "output_type": "execute_result",
          "data": {
            "text/html": [
              "<div>\n",
              "<style scoped>\n",
              "    .dataframe tbody tr th:only-of-type {\n",
              "        vertical-align: middle;\n",
              "    }\n",
              "\n",
              "    .dataframe tbody tr th {\n",
              "        vertical-align: top;\n",
              "    }\n",
              "\n",
              "    .dataframe thead th {\n",
              "        text-align: right;\n",
              "    }\n",
              "</style>\n",
              "<table border=\"1\" class=\"dataframe\">\n",
              "  <thead>\n",
              "    <tr style=\"text-align: right;\">\n",
              "      <th></th>\n",
              "      <th>cf_vaxxer</th>\n",
              "      <th>cf_age</th>\n",
              "      <th>cf_sex_cv</th>\n",
              "      <th>cf_scsf1</th>\n",
              "      <th>cf_clinvuln_dv</th>\n",
              "      <th>cf_nbrcoh3</th>\n",
              "    </tr>\n",
              "  </thead>\n",
              "  <tbody>\n",
              "    <tr>\n",
              "      <th>0</th>\n",
              "      <td>2.0</td>\n",
              "      <td>37</td>\n",
              "      <td>2</td>\n",
              "      <td>2.0</td>\n",
              "      <td>0.0</td>\n",
              "      <td>3.0</td>\n",
              "    </tr>\n",
              "    <tr>\n",
              "      <th>1</th>\n",
              "      <td>3.0</td>\n",
              "      <td>35</td>\n",
              "      <td>1</td>\n",
              "      <td>4.0</td>\n",
              "      <td>0.0</td>\n",
              "      <td>4.0</td>\n",
              "    </tr>\n",
              "    <tr>\n",
              "      <th>2</th>\n",
              "      <td>3.0</td>\n",
              "      <td>55</td>\n",
              "      <td>2</td>\n",
              "      <td>2.0</td>\n",
              "      <td>0.0</td>\n",
              "      <td>3.0</td>\n",
              "    </tr>\n",
              "    <tr>\n",
              "      <th>3</th>\n",
              "      <td>1.0</td>\n",
              "      <td>38</td>\n",
              "      <td>1</td>\n",
              "      <td>3.0</td>\n",
              "      <td>1.0</td>\n",
              "      <td>2.0</td>\n",
              "    </tr>\n",
              "    <tr>\n",
              "      <th>4</th>\n",
              "      <td>1.0</td>\n",
              "      <td>67</td>\n",
              "      <td>2</td>\n",
              "      <td>2.0</td>\n",
              "      <td>0.0</td>\n",
              "      <td>3.0</td>\n",
              "    </tr>\n",
              "    <tr>\n",
              "      <th>...</th>\n",
              "      <td>...</td>\n",
              "      <td>...</td>\n",
              "      <td>...</td>\n",
              "      <td>...</td>\n",
              "      <td>...</td>\n",
              "      <td>...</td>\n",
              "    </tr>\n",
              "    <tr>\n",
              "      <th>12029</th>\n",
              "      <td>2.0</td>\n",
              "      <td>41</td>\n",
              "      <td>1</td>\n",
              "      <td>3.0</td>\n",
              "      <td>0.0</td>\n",
              "      <td>3.0</td>\n",
              "    </tr>\n",
              "    <tr>\n",
              "      <th>12030</th>\n",
              "      <td>1.0</td>\n",
              "      <td>57</td>\n",
              "      <td>1</td>\n",
              "      <td>2.0</td>\n",
              "      <td>0.0</td>\n",
              "      <td>2.0</td>\n",
              "    </tr>\n",
              "    <tr>\n",
              "      <th>12031</th>\n",
              "      <td>2.0</td>\n",
              "      <td>70</td>\n",
              "      <td>2</td>\n",
              "      <td>3.0</td>\n",
              "      <td>1.0</td>\n",
              "      <td>3.0</td>\n",
              "    </tr>\n",
              "    <tr>\n",
              "      <th>12032</th>\n",
              "      <td>2.0</td>\n",
              "      <td>64</td>\n",
              "      <td>1</td>\n",
              "      <td>2.0</td>\n",
              "      <td>0.0</td>\n",
              "      <td>3.0</td>\n",
              "    </tr>\n",
              "    <tr>\n",
              "      <th>12034</th>\n",
              "      <td>3.0</td>\n",
              "      <td>41</td>\n",
              "      <td>2</td>\n",
              "      <td>3.0</td>\n",
              "      <td>0.0</td>\n",
              "      <td>1.0</td>\n",
              "    </tr>\n",
              "  </tbody>\n",
              "</table>\n",
              "<p>11667 rows × 6 columns</p>\n",
              "</div>"
            ],
            "text/plain": [
              "       cf_vaxxer  cf_age  cf_sex_cv  cf_scsf1  cf_clinvuln_dv  cf_nbrcoh3\n",
              "0            2.0      37          2       2.0             0.0         3.0\n",
              "1            3.0      35          1       4.0             0.0         4.0\n",
              "2            3.0      55          2       2.0             0.0         3.0\n",
              "3            1.0      38          1       3.0             1.0         2.0\n",
              "4            1.0      67          2       2.0             0.0         3.0\n",
              "...          ...     ...        ...       ...             ...         ...\n",
              "12029        2.0      41          1       3.0             0.0         3.0\n",
              "12030        1.0      57          1       2.0             0.0         2.0\n",
              "12031        2.0      70          2       3.0             1.0         3.0\n",
              "12032        2.0      64          1       2.0             0.0         3.0\n",
              "12034        3.0      41          2       3.0             0.0         1.0\n",
              "\n",
              "[11667 rows x 6 columns]"
            ]
          },
          "metadata": {
            "tags": []
          },
          "execution_count": 8
        }
      ]
    },
    {
      "cell_type": "code",
      "metadata": {
        "colab": {
          "base_uri": "https://localhost:8080/",
          "height": 402
        },
        "id": "azYtdVlLYx5v",
        "outputId": "6d1e912c-5795-49de-e59b-4181bc462d5d"
      },
      "source": [
        "#Outcome Variable\n",
        "USocietyCovid_Outcome = USocietyCovid_NoNaN[['cf_vaxxer']]\n",
        "USocietyCovid_Outcome"
      ],
      "execution_count": null,
      "outputs": [
        {
          "output_type": "execute_result",
          "data": {
            "text/html": [
              "<div>\n",
              "<style scoped>\n",
              "    .dataframe tbody tr th:only-of-type {\n",
              "        vertical-align: middle;\n",
              "    }\n",
              "\n",
              "    .dataframe tbody tr th {\n",
              "        vertical-align: top;\n",
              "    }\n",
              "\n",
              "    .dataframe thead th {\n",
              "        text-align: right;\n",
              "    }\n",
              "</style>\n",
              "<table border=\"1\" class=\"dataframe\">\n",
              "  <thead>\n",
              "    <tr style=\"text-align: right;\">\n",
              "      <th></th>\n",
              "      <th>cf_vaxxer</th>\n",
              "    </tr>\n",
              "  </thead>\n",
              "  <tbody>\n",
              "    <tr>\n",
              "      <th>0</th>\n",
              "      <td>2.0</td>\n",
              "    </tr>\n",
              "    <tr>\n",
              "      <th>1</th>\n",
              "      <td>3.0</td>\n",
              "    </tr>\n",
              "    <tr>\n",
              "      <th>2</th>\n",
              "      <td>3.0</td>\n",
              "    </tr>\n",
              "    <tr>\n",
              "      <th>3</th>\n",
              "      <td>1.0</td>\n",
              "    </tr>\n",
              "    <tr>\n",
              "      <th>4</th>\n",
              "      <td>1.0</td>\n",
              "    </tr>\n",
              "    <tr>\n",
              "      <th>...</th>\n",
              "      <td>...</td>\n",
              "    </tr>\n",
              "    <tr>\n",
              "      <th>12029</th>\n",
              "      <td>2.0</td>\n",
              "    </tr>\n",
              "    <tr>\n",
              "      <th>12030</th>\n",
              "      <td>1.0</td>\n",
              "    </tr>\n",
              "    <tr>\n",
              "      <th>12031</th>\n",
              "      <td>2.0</td>\n",
              "    </tr>\n",
              "    <tr>\n",
              "      <th>12032</th>\n",
              "      <td>2.0</td>\n",
              "    </tr>\n",
              "    <tr>\n",
              "      <th>12034</th>\n",
              "      <td>3.0</td>\n",
              "    </tr>\n",
              "  </tbody>\n",
              "</table>\n",
              "<p>11667 rows × 1 columns</p>\n",
              "</div>"
            ],
            "text/plain": [
              "       cf_vaxxer\n",
              "0            2.0\n",
              "1            3.0\n",
              "2            3.0\n",
              "3            1.0\n",
              "4            1.0\n",
              "...          ...\n",
              "12029        2.0\n",
              "12030        1.0\n",
              "12031        2.0\n",
              "12032        2.0\n",
              "12034        3.0\n",
              "\n",
              "[11667 rows x 1 columns]"
            ]
          },
          "metadata": {
            "tags": []
          },
          "execution_count": 9
        }
      ]
    },
    {
      "cell_type": "code",
      "metadata": {
        "colab": {
          "base_uri": "https://localhost:8080/",
          "height": 402
        },
        "id": "cO5hOXH5Y8OD",
        "outputId": "4cc72f53-76d8-43d5-b4ad-9b970937b6c9"
      },
      "source": [
        "USocietyCovid_Outcome"
      ],
      "execution_count": null,
      "outputs": [
        {
          "output_type": "execute_result",
          "data": {
            "text/html": [
              "<div>\n",
              "<style scoped>\n",
              "    .dataframe tbody tr th:only-of-type {\n",
              "        vertical-align: middle;\n",
              "    }\n",
              "\n",
              "    .dataframe tbody tr th {\n",
              "        vertical-align: top;\n",
              "    }\n",
              "\n",
              "    .dataframe thead th {\n",
              "        text-align: right;\n",
              "    }\n",
              "</style>\n",
              "<table border=\"1\" class=\"dataframe\">\n",
              "  <thead>\n",
              "    <tr style=\"text-align: right;\">\n",
              "      <th></th>\n",
              "      <th>cf_vaxxer</th>\n",
              "    </tr>\n",
              "  </thead>\n",
              "  <tbody>\n",
              "    <tr>\n",
              "      <th>0</th>\n",
              "      <td>2.0</td>\n",
              "    </tr>\n",
              "    <tr>\n",
              "      <th>1</th>\n",
              "      <td>3.0</td>\n",
              "    </tr>\n",
              "    <tr>\n",
              "      <th>2</th>\n",
              "      <td>3.0</td>\n",
              "    </tr>\n",
              "    <tr>\n",
              "      <th>3</th>\n",
              "      <td>1.0</td>\n",
              "    </tr>\n",
              "    <tr>\n",
              "      <th>4</th>\n",
              "      <td>1.0</td>\n",
              "    </tr>\n",
              "    <tr>\n",
              "      <th>...</th>\n",
              "      <td>...</td>\n",
              "    </tr>\n",
              "    <tr>\n",
              "      <th>12029</th>\n",
              "      <td>2.0</td>\n",
              "    </tr>\n",
              "    <tr>\n",
              "      <th>12030</th>\n",
              "      <td>1.0</td>\n",
              "    </tr>\n",
              "    <tr>\n",
              "      <th>12031</th>\n",
              "      <td>2.0</td>\n",
              "    </tr>\n",
              "    <tr>\n",
              "      <th>12032</th>\n",
              "      <td>2.0</td>\n",
              "    </tr>\n",
              "    <tr>\n",
              "      <th>12034</th>\n",
              "      <td>3.0</td>\n",
              "    </tr>\n",
              "  </tbody>\n",
              "</table>\n",
              "<p>11667 rows × 1 columns</p>\n",
              "</div>"
            ],
            "text/plain": [
              "       cf_vaxxer\n",
              "0            2.0\n",
              "1            3.0\n",
              "2            3.0\n",
              "3            1.0\n",
              "4            1.0\n",
              "...          ...\n",
              "12029        2.0\n",
              "12030        1.0\n",
              "12031        2.0\n",
              "12032        2.0\n",
              "12034        3.0\n",
              "\n",
              "[11667 rows x 1 columns]"
            ]
          },
          "metadata": {
            "tags": []
          },
          "execution_count": 10
        }
      ]
    },
    {
      "cell_type": "markdown",
      "metadata": {
        "id": "EHCrz_KZZJY0"
      },
      "source": [
        "Tasks"
      ]
    },
    {
      "cell_type": "markdown",
      "metadata": {
        "id": "_iifziw5sgfA"
      },
      "source": [
        "### 4.1. Exploratory data analysis\n",
        "* Describe and visualise and describe the outcome variable (cf_vaxxer) using the approach we used in the lab on prediction and supervised machine learning. \n",
        "* Describe and visualise one of the features of your choice.\n",
        "\n",
        "Use descriptive statistics and visualisations appropriate for the respective variable.\n",
        "\n",
        "### 4.2. Preparing variables for your machine leaning modelling\n",
        "* Transform the outcome variable to a binary variable where 1 means likely to take up a Covid vaccine and 0 means unlikely to take a Covid vaccine. \n",
        "* Preprocess the features: standardise the continuous variables and create dummy variables out of the categorical variables   "
      ]
    },
    {
      "cell_type": "code",
      "metadata": {
        "colab": {
          "base_uri": "https://localhost:8080/",
          "height": 515
        },
        "id": "O6wsD6DIY8Di",
        "outputId": "e62d73b6-d8a2-4cb8-f912-343965aceb49"
      },
      "source": [
        "fig = sns.catplot(x=\"cf_vaxxer\", \n",
        "            kind = \"count\",\n",
        "            height=6, aspect=1, palette=\"ch:.25\",\n",
        "            data = USocietyCovid_Outcome)\n",
        "\n",
        "# Alteration of the plot\n",
        "(fig.set_axis_labels(\"Likelihood of taking up a coronavirus vaccination\", \"Frequency\")\n",
        "    .set_xticklabels([\"Very likely\",\"Likely\",\"Unlikely\",\"Very unlikely\"])\n",
        "    .set_xticklabels(rotation=45))"
      ],
      "execution_count": null,
      "outputs": [
        {
          "output_type": "execute_result",
          "data": {
            "text/plain": [
              "<seaborn.axisgrid.FacetGrid at 0x7f10eab323d0>"
            ]
          },
          "metadata": {
            "tags": []
          },
          "execution_count": 11
        },
        {
          "output_type": "display_data",
          "data": {
            "image/png": "[encoded data removed]",
            "text/plain": [
              "<Figure size 432x432 with 1 Axes>"
            ]
          },
          "metadata": {
            "tags": [],
            "needs_background": "light"
          }
        }
      ]
    },
    {
      "cell_type": "markdown",
      "metadata": {
        "id": "VdD5bHEPZ5U2"
      },
      "source": [
        "From the above bar chart we can see that the majority of people have a strong likelihood of taking up a coronavirus vaccination, with almost 7000 participants belonging to the 'very likely' category. This graph also shows us that 3000 participants are also 'likely' to take up a coronavirus vaccination. On the other hand, the number of participants who are 'unlikely' or 'very unlikely' to take up a coronavirus vaccination is significantly less than those who are more likely. With approximately 1000 participants belonging to the 'unlikely' category and 700 participants belonging to the 'very unlikely' category. Therefore, in accordance with this bar graph, one may say that the probaility of citizens of United Kingdom taking up a coronavirus vaccination is high."
      ]
    },
    {
      "cell_type": "code",
      "metadata": {
        "colab": {
          "base_uri": "https://localhost:8080/",
          "height": 402
        },
        "id": "lWilMplEZ57r",
        "outputId": "08916d6e-7958-49d2-af12-c9552eba66a5"
      },
      "source": [
        "USocietyCovid_Outcome = USocietyCovid_Outcome[[\"cf_vaxxer\"]].replace([1,2,3,4],[1,1,0,0])\n",
        "USocietyCovid_Outcome"
      ],
      "execution_count": null,
      "outputs": [
        {
          "output_type": "execute_result",
          "data": {
            "text/html": [
              "<div>\n",
              "<style scoped>\n",
              "    .dataframe tbody tr th:only-of-type {\n",
              "        vertical-align: middle;\n",
              "    }\n",
              "\n",
              "    .dataframe tbody tr th {\n",
              "        vertical-align: top;\n",
              "    }\n",
              "\n",
              "    .dataframe thead th {\n",
              "        text-align: right;\n",
              "    }\n",
              "</style>\n",
              "<table border=\"1\" class=\"dataframe\">\n",
              "  <thead>\n",
              "    <tr style=\"text-align: right;\">\n",
              "      <th></th>\n",
              "      <th>cf_vaxxer</th>\n",
              "    </tr>\n",
              "  </thead>\n",
              "  <tbody>\n",
              "    <tr>\n",
              "      <th>0</th>\n",
              "      <td>1.0</td>\n",
              "    </tr>\n",
              "    <tr>\n",
              "      <th>1</th>\n",
              "      <td>0.0</td>\n",
              "    </tr>\n",
              "    <tr>\n",
              "      <th>2</th>\n",
              "      <td>0.0</td>\n",
              "    </tr>\n",
              "    <tr>\n",
              "      <th>3</th>\n",
              "      <td>1.0</td>\n",
              "    </tr>\n",
              "    <tr>\n",
              "      <th>4</th>\n",
              "      <td>1.0</td>\n",
              "    </tr>\n",
              "    <tr>\n",
              "      <th>...</th>\n",
              "      <td>...</td>\n",
              "    </tr>\n",
              "    <tr>\n",
              "      <th>12029</th>\n",
              "      <td>1.0</td>\n",
              "    </tr>\n",
              "    <tr>\n",
              "      <th>12030</th>\n",
              "      <td>1.0</td>\n",
              "    </tr>\n",
              "    <tr>\n",
              "      <th>12031</th>\n",
              "      <td>1.0</td>\n",
              "    </tr>\n",
              "    <tr>\n",
              "      <th>12032</th>\n",
              "      <td>1.0</td>\n",
              "    </tr>\n",
              "    <tr>\n",
              "      <th>12034</th>\n",
              "      <td>0.0</td>\n",
              "    </tr>\n",
              "  </tbody>\n",
              "</table>\n",
              "<p>11667 rows × 1 columns</p>\n",
              "</div>"
            ],
            "text/plain": [
              "       cf_vaxxer\n",
              "0            1.0\n",
              "1            0.0\n",
              "2            0.0\n",
              "3            1.0\n",
              "4            1.0\n",
              "...          ...\n",
              "12029        1.0\n",
              "12030        1.0\n",
              "12031        1.0\n",
              "12032        1.0\n",
              "12034        0.0\n",
              "\n",
              "[11667 rows x 1 columns]"
            ]
          },
          "metadata": {
            "tags": []
          },
          "execution_count": 12
        }
      ]
    },
    {
      "cell_type": "code",
      "metadata": {
        "colab": {
          "base_uri": "https://localhost:8080/",
          "height": 497
        },
        "id": "-rAiD3JtZ_A_",
        "outputId": "630b908e-4e36-4191-cad0-d5a121a3c503"
      },
      "source": [
        "#Transformation of outcome variable into binary variable\n",
        "fig = sns.catplot(x=\"cf_vaxxer\", \n",
        "            kind = \"count\",\n",
        "            height=6, aspect=1, palette=\"ch:.25\",\n",
        "            data = USocietyCovid_Outcome)\n",
        "\n",
        "# Change of the plot\n",
        "(fig.set_axis_labels(\"Likelihood of taking up a coronavirus vaccination\", \"Frequency\")\n",
        "    .set_xticklabels([\"Unlikely\",\"Likely\"])\n",
        "    .set_xticklabels(rotation=45))"
      ],
      "execution_count": null,
      "outputs": [
        {
          "output_type": "execute_result",
          "data": {
            "text/plain": [
              "<seaborn.axisgrid.FacetGrid at 0x7f10e7355290>"
            ]
          },
          "metadata": {
            "tags": []
          },
          "execution_count": 13
        },
        {
          "output_type": "display_data",
          "data": {
            "image/png": "[encoded data removed]",
            "text/plain": [
              "<Figure size 432x432 with 1 Axes>"
            ]
          },
          "metadata": {
            "tags": [],
            "needs_background": "light"
          }
        }
      ]
    },
    {
      "cell_type": "markdown",
      "metadata": {
        "id": "fkJEdSI_adgS"
      },
      "source": [
        "The outcome variable in which this bar graph is based upon has been changed to a binary variable where 1 means 'likely' to take up a Covid vaccine and 0 means 'unlikely' to take a Covid vaccine. This graph suggests that there is an overwhelming probability of people who are likely to take up a coronavirus vaccination (almost 10,000) compared to those who are unlikely (Less than 2000)."
      ]
    },
    {
      "cell_type": "code",
      "metadata": {
        "colab": {
          "base_uri": "https://localhost:8080/",
          "height": 402
        },
        "id": "Ad8oLCFAaczc",
        "outputId": "c8edd96a-339f-4dd2-ee86-0f1a491b8152"
      },
      "source": [
        "USocietyCovid_Predictors = USocietyCovid_NoNaN[['cf_age', 'cf_sex_cv', 'cf_scsf1','cf_clinvuln_dv', 'cf_nbrcoh3']]\n",
        "USocietyCovid_Predictors"
      ],
      "execution_count": null,
      "outputs": [
        {
          "output_type": "execute_result",
          "data": {
            "text/html": [
              "<div>\n",
              "<style scoped>\n",
              "    .dataframe tbody tr th:only-of-type {\n",
              "        vertical-align: middle;\n",
              "    }\n",
              "\n",
              "    .dataframe tbody tr th {\n",
              "        vertical-align: top;\n",
              "    }\n",
              "\n",
              "    .dataframe thead th {\n",
              "        text-align: right;\n",
              "    }\n",
              "</style>\n",
              "<table border=\"1\" class=\"dataframe\">\n",
              "  <thead>\n",
              "    <tr style=\"text-align: right;\">\n",
              "      <th></th>\n",
              "      <th>cf_age</th>\n",
              "      <th>cf_sex_cv</th>\n",
              "      <th>cf_scsf1</th>\n",
              "      <th>cf_clinvuln_dv</th>\n",
              "      <th>cf_nbrcoh3</th>\n",
              "    </tr>\n",
              "  </thead>\n",
              "  <tbody>\n",
              "    <tr>\n",
              "      <th>0</th>\n",
              "      <td>37</td>\n",
              "      <td>2</td>\n",
              "      <td>2.0</td>\n",
              "      <td>0.0</td>\n",
              "      <td>3.0</td>\n",
              "    </tr>\n",
              "    <tr>\n",
              "      <th>1</th>\n",
              "      <td>35</td>\n",
              "      <td>1</td>\n",
              "      <td>4.0</td>\n",
              "      <td>0.0</td>\n",
              "      <td>4.0</td>\n",
              "    </tr>\n",
              "    <tr>\n",
              "      <th>2</th>\n",
              "      <td>55</td>\n",
              "      <td>2</td>\n",
              "      <td>2.0</td>\n",
              "      <td>0.0</td>\n",
              "      <td>3.0</td>\n",
              "    </tr>\n",
              "    <tr>\n",
              "      <th>3</th>\n",
              "      <td>38</td>\n",
              "      <td>1</td>\n",
              "      <td>3.0</td>\n",
              "      <td>1.0</td>\n",
              "      <td>2.0</td>\n",
              "    </tr>\n",
              "    <tr>\n",
              "      <th>4</th>\n",
              "      <td>67</td>\n",
              "      <td>2</td>\n",
              "      <td>2.0</td>\n",
              "      <td>0.0</td>\n",
              "      <td>3.0</td>\n",
              "    </tr>\n",
              "    <tr>\n",
              "      <th>...</th>\n",
              "      <td>...</td>\n",
              "      <td>...</td>\n",
              "      <td>...</td>\n",
              "      <td>...</td>\n",
              "      <td>...</td>\n",
              "    </tr>\n",
              "    <tr>\n",
              "      <th>12029</th>\n",
              "      <td>41</td>\n",
              "      <td>1</td>\n",
              "      <td>3.0</td>\n",
              "      <td>0.0</td>\n",
              "      <td>3.0</td>\n",
              "    </tr>\n",
              "    <tr>\n",
              "      <th>12030</th>\n",
              "      <td>57</td>\n",
              "      <td>1</td>\n",
              "      <td>2.0</td>\n",
              "      <td>0.0</td>\n",
              "      <td>2.0</td>\n",
              "    </tr>\n",
              "    <tr>\n",
              "      <th>12031</th>\n",
              "      <td>70</td>\n",
              "      <td>2</td>\n",
              "      <td>3.0</td>\n",
              "      <td>1.0</td>\n",
              "      <td>3.0</td>\n",
              "    </tr>\n",
              "    <tr>\n",
              "      <th>12032</th>\n",
              "      <td>64</td>\n",
              "      <td>1</td>\n",
              "      <td>2.0</td>\n",
              "      <td>0.0</td>\n",
              "      <td>3.0</td>\n",
              "    </tr>\n",
              "    <tr>\n",
              "      <th>12034</th>\n",
              "      <td>41</td>\n",
              "      <td>2</td>\n",
              "      <td>3.0</td>\n",
              "      <td>0.0</td>\n",
              "      <td>1.0</td>\n",
              "    </tr>\n",
              "  </tbody>\n",
              "</table>\n",
              "<p>11667 rows × 5 columns</p>\n",
              "</div>"
            ],
            "text/plain": [
              "       cf_age  cf_sex_cv  cf_scsf1  cf_clinvuln_dv  cf_nbrcoh3\n",
              "0          37          2       2.0             0.0         3.0\n",
              "1          35          1       4.0             0.0         4.0\n",
              "2          55          2       2.0             0.0         3.0\n",
              "3          38          1       3.0             1.0         2.0\n",
              "4          67          2       2.0             0.0         3.0\n",
              "...       ...        ...       ...             ...         ...\n",
              "12029      41          1       3.0             0.0         3.0\n",
              "12030      57          1       2.0             0.0         2.0\n",
              "12031      70          2       3.0             1.0         3.0\n",
              "12032      64          1       2.0             0.0         3.0\n",
              "12034      41          2       3.0             0.0         1.0\n",
              "\n",
              "[11667 rows x 5 columns]"
            ]
          },
          "metadata": {
            "tags": []
          },
          "execution_count": 14
        }
      ]
    },
    {
      "cell_type": "code",
      "metadata": {
        "colab": {
          "base_uri": "https://localhost:8080/",
          "height": 520
        },
        "id": "PZorHn0kachi",
        "outputId": "784252df-5b10-4fd0-b21a-6e77571ca937"
      },
      "source": [
        "#Plotting of the variable 'At risk of serious illness from Covid-19'\n",
        "fig = sns.catplot(x=\"cf_clinvuln_dv\", \n",
        "            kind = \"count\",\n",
        "            height=6, aspect=1.5, palette=\"ch:.25\",\n",
        "            data = USocietyCovid_Predictors)\n",
        "\n",
        "# Tweak the plot\n",
        "(fig.set_axis_labels(\"At risk of serious illness from COVID-19\", \"Frequency\")\n",
        "    .set_xticklabels([\"No Risk\",\"Moderate Risk\",\"High Risk\" ])\n",
        "    .set_xticklabels(rotation=45))"
      ],
      "execution_count": null,
      "outputs": [
        {
          "output_type": "execute_result",
          "data": {
            "text/plain": [
              "<seaborn.axisgrid.FacetGrid at 0x7f10e97a0290>"
            ]
          },
          "metadata": {
            "tags": []
          },
          "execution_count": 15
        },
        {
          "output_type": "display_data",
          "data": {
            "image/png": "[encoded data removed]",
            "text/plain": [
              "<Figure size 648x432 with 1 Axes>"
            ]
          },
          "metadata": {
            "tags": [],
            "needs_background": "light"
          }
        }
      ]
    },
    {
      "cell_type": "markdown",
      "metadata": {
        "id": "1em4mPILc51x"
      },
      "source": [
        "The feature I have chosen to describe and visualise is the predictor 'At risk of serious illness from COVID-19'. From this visualisation one can see that most participants are not at risk from serious illness of COVID-19, with approximately 6500 people belonging to the 'No Risk' category. However, around 4000 are at moderate risk from serious illness from COVID-19, which is not a small number by any means. In addition,roughly 900 participants are at high risk of serious illness from COVID-19. Therefore, although the majority of participants have no risk of serious illness from COVID-19, there is still a high number and percentage of people with at least some risk."
      ]
    },
    {
      "cell_type": "code",
      "metadata": {
        "colab": {
          "base_uri": "https://localhost:8080/"
        },
        "id": "I-2tRsI8c5hg",
        "outputId": "1ed7b57e-15ec-4c7b-9064-7ac05aaa90a5"
      },
      "source": [
        "type(USocietyCovid_Predictors)"
      ],
      "execution_count": null,
      "outputs": [
        {
          "output_type": "execute_result",
          "data": {
            "text/plain": [
              "pandas.core.frame.DataFrame"
            ]
          },
          "metadata": {
            "tags": []
          },
          "execution_count": 16
        }
      ]
    },
    {
      "cell_type": "code",
      "metadata": {
        "colab": {
          "base_uri": "https://localhost:8080/",
          "height": 402
        },
        "id": "wYF85y6UdBhH",
        "outputId": "e9883f2f-c705-40e4-84ed-e6d97e9a1992"
      },
      "source": [
        "USocietyCovid_Predictors"
      ],
      "execution_count": null,
      "outputs": [
        {
          "output_type": "execute_result",
          "data": {
            "text/html": [
              "<div>\n",
              "<style scoped>\n",
              "    .dataframe tbody tr th:only-of-type {\n",
              "        vertical-align: middle;\n",
              "    }\n",
              "\n",
              "    .dataframe tbody tr th {\n",
              "        vertical-align: top;\n",
              "    }\n",
              "\n",
              "    .dataframe thead th {\n",
              "        text-align: right;\n",
              "    }\n",
              "</style>\n",
              "<table border=\"1\" class=\"dataframe\">\n",
              "  <thead>\n",
              "    <tr style=\"text-align: right;\">\n",
              "      <th></th>\n",
              "      <th>cf_age</th>\n",
              "      <th>cf_sex_cv</th>\n",
              "      <th>cf_scsf1</th>\n",
              "      <th>cf_clinvuln_dv</th>\n",
              "      <th>cf_nbrcoh3</th>\n",
              "    </tr>\n",
              "  </thead>\n",
              "  <tbody>\n",
              "    <tr>\n",
              "      <th>0</th>\n",
              "      <td>37</td>\n",
              "      <td>2</td>\n",
              "      <td>2.0</td>\n",
              "      <td>0.0</td>\n",
              "      <td>3.0</td>\n",
              "    </tr>\n",
              "    <tr>\n",
              "      <th>1</th>\n",
              "      <td>35</td>\n",
              "      <td>1</td>\n",
              "      <td>4.0</td>\n",
              "      <td>0.0</td>\n",
              "      <td>4.0</td>\n",
              "    </tr>\n",
              "    <tr>\n",
              "      <th>2</th>\n",
              "      <td>55</td>\n",
              "      <td>2</td>\n",
              "      <td>2.0</td>\n",
              "      <td>0.0</td>\n",
              "      <td>3.0</td>\n",
              "    </tr>\n",
              "    <tr>\n",
              "      <th>3</th>\n",
              "      <td>38</td>\n",
              "      <td>1</td>\n",
              "      <td>3.0</td>\n",
              "      <td>1.0</td>\n",
              "      <td>2.0</td>\n",
              "    </tr>\n",
              "    <tr>\n",
              "      <th>4</th>\n",
              "      <td>67</td>\n",
              "      <td>2</td>\n",
              "      <td>2.0</td>\n",
              "      <td>0.0</td>\n",
              "      <td>3.0</td>\n",
              "    </tr>\n",
              "    <tr>\n",
              "      <th>...</th>\n",
              "      <td>...</td>\n",
              "      <td>...</td>\n",
              "      <td>...</td>\n",
              "      <td>...</td>\n",
              "      <td>...</td>\n",
              "    </tr>\n",
              "    <tr>\n",
              "      <th>12029</th>\n",
              "      <td>41</td>\n",
              "      <td>1</td>\n",
              "      <td>3.0</td>\n",
              "      <td>0.0</td>\n",
              "      <td>3.0</td>\n",
              "    </tr>\n",
              "    <tr>\n",
              "      <th>12030</th>\n",
              "      <td>57</td>\n",
              "      <td>1</td>\n",
              "      <td>2.0</td>\n",
              "      <td>0.0</td>\n",
              "      <td>2.0</td>\n",
              "    </tr>\n",
              "    <tr>\n",
              "      <th>12031</th>\n",
              "      <td>70</td>\n",
              "      <td>2</td>\n",
              "      <td>3.0</td>\n",
              "      <td>1.0</td>\n",
              "      <td>3.0</td>\n",
              "    </tr>\n",
              "    <tr>\n",
              "      <th>12032</th>\n",
              "      <td>64</td>\n",
              "      <td>1</td>\n",
              "      <td>2.0</td>\n",
              "      <td>0.0</td>\n",
              "      <td>3.0</td>\n",
              "    </tr>\n",
              "    <tr>\n",
              "      <th>12034</th>\n",
              "      <td>41</td>\n",
              "      <td>2</td>\n",
              "      <td>3.0</td>\n",
              "      <td>0.0</td>\n",
              "      <td>1.0</td>\n",
              "    </tr>\n",
              "  </tbody>\n",
              "</table>\n",
              "<p>11667 rows × 5 columns</p>\n",
              "</div>"
            ],
            "text/plain": [
              "       cf_age  cf_sex_cv  cf_scsf1  cf_clinvuln_dv  cf_nbrcoh3\n",
              "0          37          2       2.0             0.0         3.0\n",
              "1          35          1       4.0             0.0         4.0\n",
              "2          55          2       2.0             0.0         3.0\n",
              "3          38          1       3.0             1.0         2.0\n",
              "4          67          2       2.0             0.0         3.0\n",
              "...       ...        ...       ...             ...         ...\n",
              "12029      41          1       3.0             0.0         3.0\n",
              "12030      57          1       2.0             0.0         2.0\n",
              "12031      70          2       3.0             1.0         3.0\n",
              "12032      64          1       2.0             0.0         3.0\n",
              "12034      41          2       3.0             0.0         1.0\n",
              "\n",
              "[11667 rows x 5 columns]"
            ]
          },
          "metadata": {
            "tags": []
          },
          "execution_count": 17
        }
      ]
    },
    {
      "cell_type": "code",
      "metadata": {
        "colab": {
          "base_uri": "https://localhost:8080/",
          "height": 603
        },
        "id": "QftMfXPedBSp",
        "outputId": "f8638766-f455-458a-d280-3d17ec35ddcb"
      },
      "source": [
        "from sklearn.preprocessing import StandardScaler  # For standardising data\n",
        "scaler = StandardScaler() # Initialising the scaler using the default arguments \n",
        "USocietyCovid_Predictors[['cf_age', 'cf_scsf1','cf_clinvuln_dv', 'cf_nbrcoh3']] = scaler.fit_transform(USocietyCovid_Predictors[['cf_age', 'cf_scsf1','cf_clinvuln_dv', 'cf_nbrcoh3']]) # Fit to continuous input variables and return the standardised dataset \n",
        "USocietyCovid_Predictors"
      ],
      "execution_count": null,
      "outputs": [
        {
          "output_type": "stream",
          "text": [
            "/usr/local/lib/python3.7/dist-packages/ipykernel_launcher.py:3: SettingWithCopyWarning: \n",
            "A value is trying to be set on a copy of a slice from a DataFrame.\n",
            "Try using .loc[row_indexer,col_indexer] = value instead\n",
            "\n",
            "See the caveats in the documentation: https://pandas.pydata.org/pandas-docs/stable/user_guide/indexing.html#returning-a-view-versus-a-copy\n",
            "  This is separate from the ipykernel package so we can avoid doing imports until\n",
            "/usr/local/lib/python3.7/dist-packages/pandas/core/indexing.py:1734: SettingWithCopyWarning: \n",
            "A value is trying to be set on a copy of a slice from a DataFrame.\n",
            "Try using .loc[row_indexer,col_indexer] = value instead\n",
            "\n",
            "See the caveats in the documentation: https://pandas.pydata.org/pandas-docs/stable/user_guide/indexing.html#returning-a-view-versus-a-copy\n",
            "  isetter(loc, value[:, i].tolist())\n"
          ],
          "name": "stderr"
        },
        {
          "output_type": "execute_result",
          "data": {
            "text/html": [
              "<div>\n",
              "<style scoped>\n",
              "    .dataframe tbody tr th:only-of-type {\n",
              "        vertical-align: middle;\n",
              "    }\n",
              "\n",
              "    .dataframe tbody tr th {\n",
              "        vertical-align: top;\n",
              "    }\n",
              "\n",
              "    .dataframe thead th {\n",
              "        text-align: right;\n",
              "    }\n",
              "</style>\n",
              "<table border=\"1\" class=\"dataframe\">\n",
              "  <thead>\n",
              "    <tr style=\"text-align: right;\">\n",
              "      <th></th>\n",
              "      <th>cf_age</th>\n",
              "      <th>cf_sex_cv</th>\n",
              "      <th>cf_scsf1</th>\n",
              "      <th>cf_clinvuln_dv</th>\n",
              "      <th>cf_nbrcoh3</th>\n",
              "    </tr>\n",
              "  </thead>\n",
              "  <tbody>\n",
              "    <tr>\n",
              "      <th>0</th>\n",
              "      <td>-1.110060</td>\n",
              "      <td>2</td>\n",
              "      <td>-0.567764</td>\n",
              "      <td>-0.814216</td>\n",
              "      <td>0.989113</td>\n",
              "    </tr>\n",
              "    <tr>\n",
              "      <th>1</th>\n",
              "      <td>-1.234922</td>\n",
              "      <td>1</td>\n",
              "      <td>1.559437</td>\n",
              "      <td>-0.814216</td>\n",
              "      <td>2.251003</td>\n",
              "    </tr>\n",
              "    <tr>\n",
              "      <th>2</th>\n",
              "      <td>0.013699</td>\n",
              "      <td>2</td>\n",
              "      <td>-0.567764</td>\n",
              "      <td>-0.814216</td>\n",
              "      <td>0.989113</td>\n",
              "    </tr>\n",
              "    <tr>\n",
              "      <th>3</th>\n",
              "      <td>-1.047629</td>\n",
              "      <td>1</td>\n",
              "      <td>0.495836</td>\n",
              "      <td>0.807406</td>\n",
              "      <td>-0.272777</td>\n",
              "    </tr>\n",
              "    <tr>\n",
              "      <th>4</th>\n",
              "      <td>0.762871</td>\n",
              "      <td>2</td>\n",
              "      <td>-0.567764</td>\n",
              "      <td>-0.814216</td>\n",
              "      <td>0.989113</td>\n",
              "    </tr>\n",
              "    <tr>\n",
              "      <th>...</th>\n",
              "      <td>...</td>\n",
              "      <td>...</td>\n",
              "      <td>...</td>\n",
              "      <td>...</td>\n",
              "      <td>...</td>\n",
              "    </tr>\n",
              "    <tr>\n",
              "      <th>12029</th>\n",
              "      <td>-0.860336</td>\n",
              "      <td>1</td>\n",
              "      <td>0.495836</td>\n",
              "      <td>-0.814216</td>\n",
              "      <td>0.989113</td>\n",
              "    </tr>\n",
              "    <tr>\n",
              "      <th>12030</th>\n",
              "      <td>0.138561</td>\n",
              "      <td>1</td>\n",
              "      <td>-0.567764</td>\n",
              "      <td>-0.814216</td>\n",
              "      <td>-0.272777</td>\n",
              "    </tr>\n",
              "    <tr>\n",
              "      <th>12031</th>\n",
              "      <td>0.950164</td>\n",
              "      <td>2</td>\n",
              "      <td>0.495836</td>\n",
              "      <td>0.807406</td>\n",
              "      <td>0.989113</td>\n",
              "    </tr>\n",
              "    <tr>\n",
              "      <th>12032</th>\n",
              "      <td>0.575578</td>\n",
              "      <td>1</td>\n",
              "      <td>-0.567764</td>\n",
              "      <td>-0.814216</td>\n",
              "      <td>0.989113</td>\n",
              "    </tr>\n",
              "    <tr>\n",
              "      <th>12034</th>\n",
              "      <td>-0.860336</td>\n",
              "      <td>2</td>\n",
              "      <td>0.495836</td>\n",
              "      <td>-0.814216</td>\n",
              "      <td>-1.534667</td>\n",
              "    </tr>\n",
              "  </tbody>\n",
              "</table>\n",
              "<p>11667 rows × 5 columns</p>\n",
              "</div>"
            ],
            "text/plain": [
              "         cf_age  cf_sex_cv  cf_scsf1  cf_clinvuln_dv  cf_nbrcoh3\n",
              "0     -1.110060          2 -0.567764       -0.814216    0.989113\n",
              "1     -1.234922          1  1.559437       -0.814216    2.251003\n",
              "2      0.013699          2 -0.567764       -0.814216    0.989113\n",
              "3     -1.047629          1  0.495836        0.807406   -0.272777\n",
              "4      0.762871          2 -0.567764       -0.814216    0.989113\n",
              "...         ...        ...       ...             ...         ...\n",
              "12029 -0.860336          1  0.495836       -0.814216    0.989113\n",
              "12030  0.138561          1 -0.567764       -0.814216   -0.272777\n",
              "12031  0.950164          2  0.495836        0.807406    0.989113\n",
              "12032  0.575578          1 -0.567764       -0.814216    0.989113\n",
              "12034 -0.860336          2  0.495836       -0.814216   -1.534667\n",
              "\n",
              "[11667 rows x 5 columns]"
            ]
          },
          "metadata": {
            "tags": []
          },
          "execution_count": 18
        }
      ]
    },
    {
      "cell_type": "code",
      "metadata": {
        "colab": {
          "base_uri": "https://localhost:8080/",
          "height": 402
        },
        "id": "XIS-BKQsdRps",
        "outputId": "9aa47569-bbe1-4b25-d709-c966e7db2f64"
      },
      "source": [
        "USocietyCovid_Predictors"
      ],
      "execution_count": null,
      "outputs": [
        {
          "output_type": "execute_result",
          "data": {
            "text/html": [
              "<div>\n",
              "<style scoped>\n",
              "    .dataframe tbody tr th:only-of-type {\n",
              "        vertical-align: middle;\n",
              "    }\n",
              "\n",
              "    .dataframe tbody tr th {\n",
              "        vertical-align: top;\n",
              "    }\n",
              "\n",
              "    .dataframe thead th {\n",
              "        text-align: right;\n",
              "    }\n",
              "</style>\n",
              "<table border=\"1\" class=\"dataframe\">\n",
              "  <thead>\n",
              "    <tr style=\"text-align: right;\">\n",
              "      <th></th>\n",
              "      <th>cf_age</th>\n",
              "      <th>cf_sex_cv</th>\n",
              "      <th>cf_scsf1</th>\n",
              "      <th>cf_clinvuln_dv</th>\n",
              "      <th>cf_nbrcoh3</th>\n",
              "    </tr>\n",
              "  </thead>\n",
              "  <tbody>\n",
              "    <tr>\n",
              "      <th>0</th>\n",
              "      <td>-1.110060</td>\n",
              "      <td>2</td>\n",
              "      <td>-0.567764</td>\n",
              "      <td>-0.814216</td>\n",
              "      <td>0.989113</td>\n",
              "    </tr>\n",
              "    <tr>\n",
              "      <th>1</th>\n",
              "      <td>-1.234922</td>\n",
              "      <td>1</td>\n",
              "      <td>1.559437</td>\n",
              "      <td>-0.814216</td>\n",
              "      <td>2.251003</td>\n",
              "    </tr>\n",
              "    <tr>\n",
              "      <th>2</th>\n",
              "      <td>0.013699</td>\n",
              "      <td>2</td>\n",
              "      <td>-0.567764</td>\n",
              "      <td>-0.814216</td>\n",
              "      <td>0.989113</td>\n",
              "    </tr>\n",
              "    <tr>\n",
              "      <th>3</th>\n",
              "      <td>-1.047629</td>\n",
              "      <td>1</td>\n",
              "      <td>0.495836</td>\n",
              "      <td>0.807406</td>\n",
              "      <td>-0.272777</td>\n",
              "    </tr>\n",
              "    <tr>\n",
              "      <th>4</th>\n",
              "      <td>0.762871</td>\n",
              "      <td>2</td>\n",
              "      <td>-0.567764</td>\n",
              "      <td>-0.814216</td>\n",
              "      <td>0.989113</td>\n",
              "    </tr>\n",
              "    <tr>\n",
              "      <th>...</th>\n",
              "      <td>...</td>\n",
              "      <td>...</td>\n",
              "      <td>...</td>\n",
              "      <td>...</td>\n",
              "      <td>...</td>\n",
              "    </tr>\n",
              "    <tr>\n",
              "      <th>12029</th>\n",
              "      <td>-0.860336</td>\n",
              "      <td>1</td>\n",
              "      <td>0.495836</td>\n",
              "      <td>-0.814216</td>\n",
              "      <td>0.989113</td>\n",
              "    </tr>\n",
              "    <tr>\n",
              "      <th>12030</th>\n",
              "      <td>0.138561</td>\n",
              "      <td>1</td>\n",
              "      <td>-0.567764</td>\n",
              "      <td>-0.814216</td>\n",
              "      <td>-0.272777</td>\n",
              "    </tr>\n",
              "    <tr>\n",
              "      <th>12031</th>\n",
              "      <td>0.950164</td>\n",
              "      <td>2</td>\n",
              "      <td>0.495836</td>\n",
              "      <td>0.807406</td>\n",
              "      <td>0.989113</td>\n",
              "    </tr>\n",
              "    <tr>\n",
              "      <th>12032</th>\n",
              "      <td>0.575578</td>\n",
              "      <td>1</td>\n",
              "      <td>-0.567764</td>\n",
              "      <td>-0.814216</td>\n",
              "      <td>0.989113</td>\n",
              "    </tr>\n",
              "    <tr>\n",
              "      <th>12034</th>\n",
              "      <td>-0.860336</td>\n",
              "      <td>2</td>\n",
              "      <td>0.495836</td>\n",
              "      <td>-0.814216</td>\n",
              "      <td>-1.534667</td>\n",
              "    </tr>\n",
              "  </tbody>\n",
              "</table>\n",
              "<p>11667 rows × 5 columns</p>\n",
              "</div>"
            ],
            "text/plain": [
              "         cf_age  cf_sex_cv  cf_scsf1  cf_clinvuln_dv  cf_nbrcoh3\n",
              "0     -1.110060          2 -0.567764       -0.814216    0.989113\n",
              "1     -1.234922          1  1.559437       -0.814216    2.251003\n",
              "2      0.013699          2 -0.567764       -0.814216    0.989113\n",
              "3     -1.047629          1  0.495836        0.807406   -0.272777\n",
              "4      0.762871          2 -0.567764       -0.814216    0.989113\n",
              "...         ...        ...       ...             ...         ...\n",
              "12029 -0.860336          1  0.495836       -0.814216    0.989113\n",
              "12030  0.138561          1 -0.567764       -0.814216   -0.272777\n",
              "12031  0.950164          2  0.495836        0.807406    0.989113\n",
              "12032  0.575578          1 -0.567764       -0.814216    0.989113\n",
              "12034 -0.860336          2  0.495836       -0.814216   -1.534667\n",
              "\n",
              "[11667 rows x 5 columns]"
            ]
          },
          "metadata": {
            "tags": []
          },
          "execution_count": 19
        }
      ]
    },
    {
      "cell_type": "code",
      "metadata": {
        "id": "bBGojkw_dXjK"
      },
      "source": [
        "USocietyCovid_Predictors = pd.get_dummies(USocietyCovid_Predictors, columns=[\"cf_sex_cv\"])"
      ],
      "execution_count": null,
      "outputs": []
    },
    {
      "cell_type": "code",
      "metadata": {
        "colab": {
          "base_uri": "https://localhost:8080/",
          "height": 402
        },
        "id": "3SSf4Zp1dX1f",
        "outputId": "9135f9d4-aed4-4a8f-afd3-fb6afc4f4cec"
      },
      "source": [
        "USocietyCovid_Predictors\n"
      ],
      "execution_count": null,
      "outputs": [
        {
          "output_type": "execute_result",
          "data": {
            "text/html": [
              "<div>\n",
              "<style scoped>\n",
              "    .dataframe tbody tr th:only-of-type {\n",
              "        vertical-align: middle;\n",
              "    }\n",
              "\n",
              "    .dataframe tbody tr th {\n",
              "        vertical-align: top;\n",
              "    }\n",
              "\n",
              "    .dataframe thead th {\n",
              "        text-align: right;\n",
              "    }\n",
              "</style>\n",
              "<table border=\"1\" class=\"dataframe\">\n",
              "  <thead>\n",
              "    <tr style=\"text-align: right;\">\n",
              "      <th></th>\n",
              "      <th>cf_age</th>\n",
              "      <th>cf_scsf1</th>\n",
              "      <th>cf_clinvuln_dv</th>\n",
              "      <th>cf_nbrcoh3</th>\n",
              "      <th>cf_sex_cv_1</th>\n",
              "      <th>cf_sex_cv_2</th>\n",
              "      <th>cf_sex_cv_3</th>\n",
              "    </tr>\n",
              "  </thead>\n",
              "  <tbody>\n",
              "    <tr>\n",
              "      <th>0</th>\n",
              "      <td>-1.110060</td>\n",
              "      <td>-0.567764</td>\n",
              "      <td>-0.814216</td>\n",
              "      <td>0.989113</td>\n",
              "      <td>0</td>\n",
              "      <td>1</td>\n",
              "      <td>0</td>\n",
              "    </tr>\n",
              "    <tr>\n",
              "      <th>1</th>\n",
              "      <td>-1.234922</td>\n",
              "      <td>1.559437</td>\n",
              "      <td>-0.814216</td>\n",
              "      <td>2.251003</td>\n",
              "      <td>1</td>\n",
              "      <td>0</td>\n",
              "      <td>0</td>\n",
              "    </tr>\n",
              "    <tr>\n",
              "      <th>2</th>\n",
              "      <td>0.013699</td>\n",
              "      <td>-0.567764</td>\n",
              "      <td>-0.814216</td>\n",
              "      <td>0.989113</td>\n",
              "      <td>0</td>\n",
              "      <td>1</td>\n",
              "      <td>0</td>\n",
              "    </tr>\n",
              "    <tr>\n",
              "      <th>3</th>\n",
              "      <td>-1.047629</td>\n",
              "      <td>0.495836</td>\n",
              "      <td>0.807406</td>\n",
              "      <td>-0.272777</td>\n",
              "      <td>1</td>\n",
              "      <td>0</td>\n",
              "      <td>0</td>\n",
              "    </tr>\n",
              "    <tr>\n",
              "      <th>4</th>\n",
              "      <td>0.762871</td>\n",
              "      <td>-0.567764</td>\n",
              "      <td>-0.814216</td>\n",
              "      <td>0.989113</td>\n",
              "      <td>0</td>\n",
              "      <td>1</td>\n",
              "      <td>0</td>\n",
              "    </tr>\n",
              "    <tr>\n",
              "      <th>...</th>\n",
              "      <td>...</td>\n",
              "      <td>...</td>\n",
              "      <td>...</td>\n",
              "      <td>...</td>\n",
              "      <td>...</td>\n",
              "      <td>...</td>\n",
              "      <td>...</td>\n",
              "    </tr>\n",
              "    <tr>\n",
              "      <th>12029</th>\n",
              "      <td>-0.860336</td>\n",
              "      <td>0.495836</td>\n",
              "      <td>-0.814216</td>\n",
              "      <td>0.989113</td>\n",
              "      <td>1</td>\n",
              "      <td>0</td>\n",
              "      <td>0</td>\n",
              "    </tr>\n",
              "    <tr>\n",
              "      <th>12030</th>\n",
              "      <td>0.138561</td>\n",
              "      <td>-0.567764</td>\n",
              "      <td>-0.814216</td>\n",
              "      <td>-0.272777</td>\n",
              "      <td>1</td>\n",
              "      <td>0</td>\n",
              "      <td>0</td>\n",
              "    </tr>\n",
              "    <tr>\n",
              "      <th>12031</th>\n",
              "      <td>0.950164</td>\n",
              "      <td>0.495836</td>\n",
              "      <td>0.807406</td>\n",
              "      <td>0.989113</td>\n",
              "      <td>0</td>\n",
              "      <td>1</td>\n",
              "      <td>0</td>\n",
              "    </tr>\n",
              "    <tr>\n",
              "      <th>12032</th>\n",
              "      <td>0.575578</td>\n",
              "      <td>-0.567764</td>\n",
              "      <td>-0.814216</td>\n",
              "      <td>0.989113</td>\n",
              "      <td>1</td>\n",
              "      <td>0</td>\n",
              "      <td>0</td>\n",
              "    </tr>\n",
              "    <tr>\n",
              "      <th>12034</th>\n",
              "      <td>-0.860336</td>\n",
              "      <td>0.495836</td>\n",
              "      <td>-0.814216</td>\n",
              "      <td>-1.534667</td>\n",
              "      <td>0</td>\n",
              "      <td>1</td>\n",
              "      <td>0</td>\n",
              "    </tr>\n",
              "  </tbody>\n",
              "</table>\n",
              "<p>11667 rows × 7 columns</p>\n",
              "</div>"
            ],
            "text/plain": [
              "         cf_age  cf_scsf1  ...  cf_sex_cv_2  cf_sex_cv_3\n",
              "0     -1.110060 -0.567764  ...            1            0\n",
              "1     -1.234922  1.559437  ...            0            0\n",
              "2      0.013699 -0.567764  ...            1            0\n",
              "3     -1.047629  0.495836  ...            0            0\n",
              "4      0.762871 -0.567764  ...            1            0\n",
              "...         ...       ...  ...          ...          ...\n",
              "12029 -0.860336  0.495836  ...            0            0\n",
              "12030  0.138561 -0.567764  ...            0            0\n",
              "12031  0.950164  0.495836  ...            1            0\n",
              "12032  0.575578 -0.567764  ...            0            0\n",
              "12034 -0.860336  0.495836  ...            1            0\n",
              "\n",
              "[11667 rows x 7 columns]"
            ]
          },
          "metadata": {
            "tags": []
          },
          "execution_count": 21
        }
      ]
    },
    {
      "cell_type": "markdown",
      "metadata": {
        "id": "wE4D62LBevB6"
      },
      "source": [
        ""
      ]
    },
    {
      "cell_type": "markdown",
      "metadata": {
        "id": "zjfU87k9tKv3"
      },
      "source": [
        "### 4.3. Splitting the data and balancing the class labels\n",
        "* Split the data into train and test data sets using the `sklearn` function `train_test_split`: \n",
        "  * Set the proportion of the dataset to include in the test split to 0.3 (this will split the data into 30% test set and 70% train set). \n",
        "  * Use the parameter `stratify` and pass your outcome array `y` as an argument so that your train and test data set have the same proportion of majority (1) and minority (0) class labels. \n",
        "* To balance the two classes, use the method called ADASYN: Adaptive Synthetic Sampling Method for Imbalanced Data. The method over-samples the minority class in the training data set until both classes have an equal number of observations."
      ]
    },
    {
      "cell_type": "code",
      "metadata": {
        "id": "iucDPJvAe0wB"
      },
      "source": [
        "from sklearn.model_selection import train_test_split\n",
        "\n",
        "X_train, X_test, y_train, y_test = train_test_split(USocietyCovid_Predictors, USocietyCovid_Outcome, test_size=0.3, stratify=USocietyCovid_Outcome, random_state=0)"
      ],
      "execution_count": null,
      "outputs": []
    },
    {
      "cell_type": "code",
      "metadata": {
        "colab": {
          "base_uri": "https://localhost:8080/"
        },
        "id": "3xIm3Me9e2ad",
        "outputId": "fe1dff46-e1f1-407b-d5a7-44d64fa4b8ce"
      },
      "source": [
        "USocietyCovid_Predictors.shape"
      ],
      "execution_count": null,
      "outputs": [
        {
          "output_type": "execute_result",
          "data": {
            "text/plain": [
              "(11667, 7)"
            ]
          },
          "metadata": {
            "tags": []
          },
          "execution_count": 23
        }
      ]
    },
    {
      "cell_type": "code",
      "metadata": {
        "colab": {
          "base_uri": "https://localhost:8080/"
        },
        "id": "wGKgclwMe2Ri",
        "outputId": "0933d2fe-7dcf-458a-f89a-c554ff8aec20"
      },
      "source": [
        "USocietyCovid_Outcome.shape"
      ],
      "execution_count": null,
      "outputs": [
        {
          "output_type": "execute_result",
          "data": {
            "text/plain": [
              "(11667, 1)"
            ]
          },
          "metadata": {
            "tags": []
          },
          "execution_count": 24
        }
      ]
    },
    {
      "cell_type": "code",
      "metadata": {
        "colab": {
          "base_uri": "https://localhost:8080/"
        },
        "id": "7AdLW4tOe2Cf",
        "outputId": "1f129b03-c4cb-48b3-f506-fae0012f77c8"
      },
      "source": [
        "y_train.shape"
      ],
      "execution_count": null,
      "outputs": [
        {
          "output_type": "execute_result",
          "data": {
            "text/plain": [
              "(8166, 1)"
            ]
          },
          "metadata": {
            "tags": []
          },
          "execution_count": 25
        }
      ]
    },
    {
      "cell_type": "code",
      "metadata": {
        "colab": {
          "base_uri": "https://localhost:8080/"
        },
        "id": "uUzOa7HXfDOs",
        "outputId": "964ce9e8-d488-49e5-bca7-696ed65433c7"
      },
      "source": [
        "y_test.shape"
      ],
      "execution_count": null,
      "outputs": [
        {
          "output_type": "execute_result",
          "data": {
            "text/plain": [
              "(3501, 1)"
            ]
          },
          "metadata": {
            "tags": []
          },
          "execution_count": 26
        }
      ]
    },
    {
      "cell_type": "code",
      "metadata": {
        "colab": {
          "base_uri": "https://localhost:8080/"
        },
        "id": "8GmmE368fDGn",
        "outputId": "bc987a74-14e0-4b88-bb29-97adcbc327b6"
      },
      "source": [
        "from imblearn.over_sampling import ADASYN\n",
        "\n",
        "# Initialisation of the ADASYN resampling method; set random_state for reproducibility\n",
        "adasyn = ADASYN(random_state=0)\n",
        "\n",
        "# Slotting the ADASYN resampling method to the train data  \n",
        "X_train, y_train = adasyn.fit_resample(X_train, y_train)"
      ],
      "execution_count": null,
      "outputs": [
        {
          "output_type": "stream",
          "text": [
            "/usr/local/lib/python3.7/dist-packages/sklearn/externals/six.py:31: FutureWarning: The module is deprecated in version 0.21 and will be removed in version 0.23 since we've dropped support for Python 2.7. Please rely on the official version of six (https://pypi.org/project/six/).\n",
            "  \"(https://pypi.org/project/six/).\", FutureWarning)\n",
            "/usr/local/lib/python3.7/dist-packages/sklearn/utils/deprecation.py:144: FutureWarning: The sklearn.neighbors.base module is  deprecated in version 0.22 and will be removed in version 0.24. The corresponding classes / functions should instead be imported from sklearn.neighbors. Anything that cannot be imported from sklearn.neighbors is now part of the private API.\n",
            "  warnings.warn(message, FutureWarning)\n",
            "/usr/local/lib/python3.7/dist-packages/sklearn/utils/validation.py:760: DataConversionWarning: A column-vector y was passed when a 1d array was expected. Please change the shape of y to (n_samples, ), for example using ravel().\n",
            "  y = column_or_1d(y, warn=True)\n",
            "/usr/local/lib/python3.7/dist-packages/sklearn/utils/deprecation.py:87: FutureWarning: Function safe_indexing is deprecated; safe_indexing is deprecated in version 0.22 and will be removed in version 0.24.\n",
            "  warnings.warn(msg, category=FutureWarning)\n"
          ],
          "name": "stderr"
        }
      ]
    },
    {
      "cell_type": "code",
      "metadata": {
        "colab": {
          "base_uri": "https://localhost:8080/"
        },
        "id": "VrLC0jLufC_A",
        "outputId": "51aa99fa-0eef-4592-944a-cb425d6b4831"
      },
      "source": [
        "y_train.shape"
      ],
      "execution_count": null,
      "outputs": [
        {
          "output_type": "execute_result",
          "data": {
            "text/plain": [
              "(13774,)"
            ]
          },
          "metadata": {
            "tags": []
          },
          "execution_count": 28
        }
      ]
    },
    {
      "cell_type": "code",
      "metadata": {
        "colab": {
          "base_uri": "https://localhost:8080/"
        },
        "id": "gFoo2V1VfYsb",
        "outputId": "303bbe9d-e79a-48e8-871e-5dc0e76569d5"
      },
      "source": [
        "(y_train == 0).sum()"
      ],
      "execution_count": null,
      "outputs": [
        {
          "output_type": "execute_result",
          "data": {
            "text/plain": [
              "6850"
            ]
          },
          "metadata": {
            "tags": []
          },
          "execution_count": 29
        }
      ]
    },
    {
      "cell_type": "code",
      "metadata": {
        "colab": {
          "base_uri": "https://localhost:8080/"
        },
        "id": "xLqBv4lufC1Q",
        "outputId": "c85e9d8d-d18b-40dc-9b8b-53490becbffe"
      },
      "source": [
        "(y_train == 1).sum()"
      ],
      "execution_count": null,
      "outputs": [
        {
          "output_type": "execute_result",
          "data": {
            "text/plain": [
              "6924"
            ]
          },
          "metadata": {
            "tags": []
          },
          "execution_count": 30
        }
      ]
    },
    {
      "cell_type": "markdown",
      "metadata": {
        "id": "FzEZMsbktPf3"
      },
      "source": [
        "### 4.4. Model initialisation, model fitting, and model validation using the train data\n",
        "* Initialise many [`KNeighborsClassifier`](https://scikit-learn.org/stable/modules/generated/sklearn.neighbors.KNeighborsClassifier.html) classifiers by varying the `n_neighbors` parameter between 1 and 20 and fit on the training set. Import the function [`cross_val_score()`](https://scikit-learn.org/stable/modules/generated/sklearn.model_selection.cross_val_score.html) and perform 5-fold cross-validation to evaluate the twenty models using the accuracy score. You can use the same procedure we used to find the best number of _k_ clusters in the lab on _k_-mean clustering. \n",
        "* Repeat the procedure but this time set the parameter `weights` in the [`KNeighborsClassifier`](https://scikit-learn.org/stable/modules/generated/sklearn.neighbors.KNeighborsClassifier.html) estimator to `distance` so that closer neighbours of a query point will have a greater influence than distant neighbours.\n",
        "* Briefly describe your results and select the model with the highest accuracy score from the cross-validation method."
      ]
    },
    {
      "cell_type": "code",
      "metadata": {
        "id": "fiUgQCsgfkFI"
      },
      "source": [
        "from sklearn.neighbors import KNeighborsClassifier\n",
        "from sklearn.model_selection import cross_val_score\n",
        "\n",
        "mean_accuracy_score = []\n",
        "\n",
        "N = range(1,21)\n",
        "for n in N:\n",
        "    kNN_Classifier = KNeighborsClassifier(n_neighbors=n)\n",
        "    accuracy_score = cross_val_score(kNN_Classifier, X_train, y_train, cv=5, scoring='accuracy')\n",
        "    mean_accuracy_score.append(accuracy_score.mean())"
      ],
      "execution_count": null,
      "outputs": []
    },
    {
      "cell_type": "code",
      "metadata": {
        "colab": {
          "base_uri": "https://localhost:8080/"
        },
        "id": "C8R6mfRbfkCU",
        "outputId": "edb310a4-f92a-4beb-fb4e-bf3fb7e52f47"
      },
      "source": [
        "mean_accuracy_score"
      ],
      "execution_count": null,
      "outputs": [
        {
          "output_type": "execute_result",
          "data": {
            "text/plain": [
              "[0.7043730880804294,\n",
              " 0.6979110800063791,\n",
              " 0.6865126718832993,\n",
              " 0.6905782448759566,\n",
              " 0.6693779712597548,\n",
              " 0.6689422414122602,\n",
              " 0.6550024712445979,\n",
              " 0.6603032184171646,\n",
              " 0.6558014410980497,\n",
              " 0.6626258720198438,\n",
              " 0.6550021812852318,\n",
              " 0.6554386492111128,\n",
              " 0.649993502274204,\n",
              " 0.6534059286146401,\n",
              " 0.6489776691748151,\n",
              " 0.6518091223852585,\n",
              " 0.6499938976733397,\n",
              " 0.6479612297967516,\n",
              " 0.6504292848415834,\n",
              " 0.6505743172445424]"
            ]
          },
          "metadata": {
            "tags": []
          },
          "execution_count": 32
        }
      ]
    },
    {
      "cell_type": "code",
      "metadata": {
        "colab": {
          "base_uri": "https://localhost:8080/",
          "height": 413
        },
        "id": "8v2xVI3ifj_C",
        "outputId": "7940bdc6-fe10-41b4-d104-519ea1433648"
      },
      "source": [
        "# Plot appearance and size\n",
        "sns.set(rc={'figure.figsize':(8.2,5.8)})\n",
        "sns.set_context(\"notebook\", font_scale=1.5, rc={\"lines.linewidth\": 2.5})\n",
        "\n",
        "# Generate the plot\n",
        "fig = sns.lineplot(x= N, y = mean_accuracy_score)    \n",
        "\n",
        "# Add x and y labels\n",
        "labels = fig.set(xlabel='Number of neighbors, n', ylabel='Mean accuracy score')\n",
        "fig.set(ylim=(0.6, 0.75))"
      ],
      "execution_count": null,
      "outputs": [
        {
          "output_type": "execute_result",
          "data": {
            "text/plain": [
              "[(0.6, 0.75)]"
            ]
          },
          "metadata": {
            "tags": []
          },
          "execution_count": 33
        },
        {
          "output_type": "display_data",
          "data": {
            "image/png": "[encoded data removed]",
            "text/plain": [
              "<Figure size 590.4x417.6 with 1 Axes>"
            ]
          },
          "metadata": {
            "tags": []
          }
        }
      ]
    },
    {
      "cell_type": "markdown",
      "metadata": {
        "id": "PM4STcxUTAGh"
      },
      "source": [
        "This model does not have the highest accuracy score when compared to the model below. The mean accuracy score decreases as the number of neighbours increases, showing an inverse correlation.The mean accuracy score begins at 0.70, which is actually this model's highest score, when the number of neighbors is 2, and decreases to 0.65 when the number of neighbors rises to 20."
      ]
    },
    {
      "cell_type": "code",
      "metadata": {
        "id": "eoTuqEGDfj4S"
      },
      "source": [
        "mean_accuracy_score_weighted = []\n",
        "\n",
        "N = range(1,21)\n",
        "for n in N:\n",
        "  kNN_Classifier = KNeighborsClassifier(n_neighbors=n, weights = 'distance') \n",
        "  accuracy_score = cross_val_score(kNN_Classifier, X_train, y_train, cv=5, scoring='accuracy')\n",
        "  mean_accuracy_score_weighted.append(accuracy_score.mean())"
      ],
      "execution_count": null,
      "outputs": []
    },
    {
      "cell_type": "code",
      "metadata": {
        "colab": {
          "base_uri": "https://localhost:8080/",
          "height": 413
        },
        "id": "hinKjBrafjrV",
        "outputId": "14059d65-86f4-4ea8-a443-cc829d562fcd"
      },
      "source": [
        "# Plot appearance and size\n",
        "sns.set(rc={'figure.figsize':(8.2,5.8)})\n",
        "sns.set_context(\"notebook\", font_scale=1.5, rc={\"lines.linewidth\": 2.5})\n",
        "\n",
        "# Generate the plot\n",
        "fig = sns.lineplot(x= N, y = mean_accuracy_score_weighted)\n",
        "\n",
        "# Add x and y labels\n",
        "labels = fig.set(xlabel='Number of neighbors, n', ylabel='Mean accuracy score')\n",
        "fig.set(ylim=(0.6, 0.75))"
      ],
      "execution_count": null,
      "outputs": [
        {
          "output_type": "execute_result",
          "data": {
            "text/plain": [
              "[(0.6, 0.75)]"
            ]
          },
          "metadata": {
            "tags": []
          },
          "execution_count": 35
        },
        {
          "output_type": "display_data",
          "data": {
            "image/png": "[encoded data removed]",
            "text/plain": [
              "<Figure size 590.4x417.6 with 1 Axes>"
            ]
          },
          "metadata": {
            "tags": []
          }
        }
      ]
    },
    {
      "cell_type": "markdown",
      "metadata": {
        "id": "8LAWgwxtg82N"
      },
      "source": [
        "This model has the highest accuracy score of approximately 0.71 when the number of neighbors reaches 4. From this graph we can also see that the accuracy score is quite stable and does not vary much even when the number of neighbors increases from 2 (0.70) to 20 (0.70). "
      ]
    },
    {
      "cell_type": "markdown",
      "metadata": {
        "id": "9YnXMHcEtZNZ"
      },
      "source": [
        "### 4.5. Predict who is likely or not to take up a Covid-19 vaccine \n",
        "* Use the model with the highest accuracy to predict unseen observations in the test data. In this case, the aim is to predict people who would take up or not a Covid-19 vaccine based on social and health features.\n",
        "* Describe the performance of your classification model on the test data by  reporting the model accuracy score and the confusion matrix. \n",
        "* Briefly interpret your results: \n",
        "  * What is the accuracy of your prediction of vaccination likelihood? \n",
        "  * Report and interpret the values from the confusion matrix, including true positives, false positives, true negatives, and false negatives. Which scores are of interest for your analysis, those related to the positive class (likely to vaccinate) or negative class (unlikely to vaccinate)? Why?   \n",
        "  * In an event that the NHS plans an information campaign among people who are unlikely to vaccinate, which scores in the confusion matrix would be more important to evaluate the performance of your model? \n",
        "  * What would you change in order to improve the predictive accuracy of your classification model?"
      ]
    },
    {
      "cell_type": "code",
      "metadata": {
        "colab": {
          "base_uri": "https://localhost:8080/"
        },
        "id": "X0YAB5xug-Ir",
        "outputId": "dbc4fdd1-d0bd-4768-eefc-493dfe23fda1"
      },
      "source": [
        "# selected model is n_neighbors = 4\n",
        "kNN_Classifier =  KNeighborsClassifier(n_neighbors = 4)\n",
        "kNN_Classifier.fit(X_train, y_train)"
      ],
      "execution_count": null,
      "outputs": [
        {
          "output_type": "execute_result",
          "data": {
            "text/plain": [
              "KNeighborsClassifier(algorithm='auto', leaf_size=30, metric='minkowski',\n",
              "                     metric_params=None, n_jobs=None, n_neighbors=4, p=2,\n",
              "                     weights='uniform')"
            ]
          },
          "metadata": {
            "tags": []
          },
          "execution_count": 36
        }
      ]
    },
    {
      "cell_type": "code",
      "metadata": {
        "id": "B_bBtHVdg95f"
      },
      "source": [
        "# using the test data to predict unseen observations\n",
        "y_pred_kNN = kNN_Classifier.predict(X_test)"
      ],
      "execution_count": null,
      "outputs": []
    },
    {
      "cell_type": "code",
      "metadata": {
        "colab": {
          "base_uri": "https://localhost:8080/"
        },
        "id": "-odXVQmChXMq",
        "outputId": "f51561a6-0847-4be1-c789-2e128e9acc4a"
      },
      "source": [
        "#Accuracy score of the above model\n",
        "from sklearn.metrics import accuracy_score\n",
        "accuracy_score(y_test, y_pred_kNN)"
      ],
      "execution_count": null,
      "outputs": [
        {
          "output_type": "execute_result",
          "data": {
            "text/plain": [
              "0.6686660954013139"
            ]
          },
          "metadata": {
            "tags": []
          },
          "execution_count": 38
        }
      ]
    },
    {
      "cell_type": "markdown",
      "metadata": {
        "id": "7l4aqnwhVcbP"
      },
      "source": [
        "Using the model with the highest accuracy score, this is accuracy of my prediction of vaccination likelihood. (0.6686660954013139 (67%))."
      ]
    },
    {
      "cell_type": "markdown",
      "metadata": {
        "id": "Pbn6RG78kBx1"
      },
      "source": [
        "**Confusion Matrix**"
      ]
    },
    {
      "cell_type": "code",
      "metadata": {
        "colab": {
          "base_uri": "https://localhost:8080/"
        },
        "id": "EE5YYV3ShXH0",
        "outputId": "35b8810b-99fe-414b-bb44-2cd1cf92f994"
      },
      "source": [
        "from sklearn.metrics import confusion_matrix\n",
        "confusion_matrix(y_test,y_pred_kNN)"
      ],
      "execution_count": null,
      "outputs": [
        {
          "output_type": "execute_result",
          "data": {
            "text/plain": [
              "array([[ 230,  302],\n",
              "       [ 858, 2111]])"
            ]
          },
          "metadata": {
            "tags": []
          },
          "execution_count": 39
        }
      ]
    },
    {
      "cell_type": "code",
      "metadata": {
        "colab": {
          "base_uri": "https://localhost:8080/",
          "height": 166
        },
        "id": "3y0tUvLfhW89",
        "outputId": "9a77ae2c-fee0-4af2-9750-3f324b12778d"
      },
      "source": [
        "#Report of values from the confusion matrix\n",
        "pd.crosstab(y_test['cf_vaxxer'], y_pred_kNN, rownames=['Actual'], colnames=['Predicted'], margins=True)"
      ],
      "execution_count": null,
      "outputs": [
        {
          "output_type": "execute_result",
          "data": {
            "text/html": [
              "<div>\n",
              "<style scoped>\n",
              "    .dataframe tbody tr th:only-of-type {\n",
              "        vertical-align: middle;\n",
              "    }\n",
              "\n",
              "    .dataframe tbody tr th {\n",
              "        vertical-align: top;\n",
              "    }\n",
              "\n",
              "    .dataframe thead th {\n",
              "        text-align: right;\n",
              "    }\n",
              "</style>\n",
              "<table border=\"1\" class=\"dataframe\">\n",
              "  <thead>\n",
              "    <tr style=\"text-align: right;\">\n",
              "      <th>Predicted</th>\n",
              "      <th>0.0</th>\n",
              "      <th>1.0</th>\n",
              "      <th>All</th>\n",
              "    </tr>\n",
              "    <tr>\n",
              "      <th>Actual</th>\n",
              "      <th></th>\n",
              "      <th></th>\n",
              "      <th></th>\n",
              "    </tr>\n",
              "  </thead>\n",
              "  <tbody>\n",
              "    <tr>\n",
              "      <th>0.0</th>\n",
              "      <td>230</td>\n",
              "      <td>302</td>\n",
              "      <td>532</td>\n",
              "    </tr>\n",
              "    <tr>\n",
              "      <th>1.0</th>\n",
              "      <td>858</td>\n",
              "      <td>2111</td>\n",
              "      <td>2969</td>\n",
              "    </tr>\n",
              "    <tr>\n",
              "      <th>All</th>\n",
              "      <td>1088</td>\n",
              "      <td>2413</td>\n",
              "      <td>3501</td>\n",
              "    </tr>\n",
              "  </tbody>\n",
              "</table>\n",
              "</div>"
            ],
            "text/plain": [
              "Predicted   0.0   1.0   All\n",
              "Actual                     \n",
              "0.0         230   302   532\n",
              "1.0         858  2111  2969\n",
              "All        1088  2413  3501"
            ]
          },
          "metadata": {
            "tags": []
          },
          "execution_count": 40
        }
      ]
    },
    {
      "cell_type": "code",
      "metadata": {
        "colab": {
          "base_uri": "https://localhost:8080/"
        },
        "id": "Xe3YbP_MkLwg",
        "outputId": "9865aafc-5ac6-4af8-c131-21f05cff6561"
      },
      "source": [
        "tn, fp, fn, tp = confusion_matrix(y_test,y_pred_kNN).ravel()\n",
        "print('True negative = ', tn, '\\nFalse positive = ', fp, '\\nFalse negative = ', fn, '\\nTrue positive = ', tp)"
      ],
      "execution_count": null,
      "outputs": [
        {
          "output_type": "stream",
          "text": [
            "True negative =  230 \n",
            "False positive =  302 \n",
            "False negative =  858 \n",
            "True positive =  2111\n"
          ],
          "name": "stdout"
        }
      ]
    },
    {
      "cell_type": "markdown",
      "metadata": {
        "id": "eDaKHTJpxv4g"
      },
      "source": [
        "***Which scores are of interest for your analysis, those related to the positive class (likely to vaccinate) or negative class (unlikely to vaccinate)? ***\n",
        "\n",
        "True positive means a positive is predicted and it came true.\n",
        "False positive means a positive is predicted and it is actually negative.\n",
        "\n",
        "True negative is when a negative is predicted and it's came true.\n",
        "False negative is when a negative is predicted and that is actually positive.\n",
        "\n",
        "The score which is related to likely to vaccinate class are 'true positive', 2111, and 'false negative', 858, for reasons mentioned above (i.e. the outcomes are positive).\n",
        "Additionally, the score related to the unlikely to be vaccinated class are 'true negative' and 'false positive', as the outcomes are both negative.\n",
        "\n"
      ]
    },
    {
      "cell_type": "code",
      "metadata": {
        "colab": {
          "base_uri": "https://localhost:8080/"
        },
        "id": "ER0axJ1gkLk4",
        "outputId": "eb26127b-258e-4b54-8808-7ec12b28ff81"
      },
      "source": [
        "(y_pred_kNN == 1).sum()"
      ],
      "execution_count": null,
      "outputs": [
        {
          "output_type": "execute_result",
          "data": {
            "text/plain": [
              "2413"
            ]
          },
          "metadata": {
            "tags": []
          },
          "execution_count": 42
        }
      ]
    },
    {
      "cell_type": "code",
      "metadata": {
        "id": "b7d-Y2p_kQVB",
        "colab": {
          "base_uri": "https://localhost:8080/"
        },
        "outputId": "70fce2e1-4d83-4e7d-c128-11bd32df354c"
      },
      "source": [
        "(y_pred_kNN == 0).sum()"
      ],
      "execution_count": null,
      "outputs": [
        {
          "output_type": "execute_result",
          "data": {
            "text/plain": [
              "1088"
            ]
          },
          "metadata": {
            "tags": []
          },
          "execution_count": 43
        }
      ]
    },
    {
      "cell_type": "markdown",
      "metadata": {
        "id": "Und9qLBkwHuk"
      },
      "source": [
        "**In an event that the NHS plans an information campaign among people who are unlikely to vaccinate, which scores in the confusion matrix would be more important to evaluate the performance of your model?**\n",
        "\n",
        "The scores in the confusion matrix model that would be more important in this scenario is the 'true negative' and 'false positive'."
      ]
    },
    {
      "cell_type": "markdown",
      "metadata": {
        "id": "Va4R9JpHwHgO"
      },
      "source": [
        "**What would you change in order to improve the predictive accuracy of your classification model?**\n",
        "\n",
        "In order to improve the predictive accuracy of my classification model I would treat the outlier values by either removing them altogether or imputing them (replacing the data with substituted values, e.g. mean). (Ray, 2015)\n"
      ]
    },
    {
      "cell_type": "markdown",
      "metadata": {
        "id": "ltoTRXeS5ZhL"
      },
      "source": [
        "**List of references:**\n",
        "\n",
        "Ray S (2015) *Analytics Vidhya*, https://www.analyticsvidhya.com/blog/2015/12/improve-machine-learning-results/, Accessed 8th April 2021."
      ]
    }
  ]
}